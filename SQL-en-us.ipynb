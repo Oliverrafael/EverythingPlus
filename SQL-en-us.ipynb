{
 "cells": [
  {
   "cell_type": "markdown",
   "metadata": {},
   "source": [
    "## Importing the Libraries"
   ]
  },
  {
   "cell_type": "code",
   "execution_count": 17,
   "metadata": {},
   "outputs": [],
   "source": [
    "# Importing the Libraries\n",
    "import pandas as pd\n",
    "import psycopg2\n",
    "from sqlalchemy import create_engine"
   ]
  },
  {
   "cell_type": "markdown",
   "metadata": {},
   "source": [
    "## Data Description\n",
    "\n",
    "\n",
    "\n",
    "\n",
    "\n"
   ]
  },
  {
   "cell_type": "markdown",
   "metadata": {},
   "source": [
    "**Data Description\n",
    "books — livros:**\n",
    "\n",
    "Contains data about books:\n",
    "\n",
    "- book_id — book identifier\n",
    "- author_id — author identifier\n",
    "- title — title\n",
    "- num_pages — number of pages\n",
    "- publication_date — publication date\n",
    "- publisher_id — publisher identifier\n",
    "\n",
    "**authors — authors:**\n",
    "\n",
    "Contains data about authors:\n",
    "\n",
    "- author_id —  author identifier\n",
    "- author — author\n",
    "- publishers — publishers:\n",
    "\n",
    "**Contains data about publishers:**\n",
    "\n",
    "- publisher_id —  publisher identifier\n",
    "- publisher — publisher name\n",
    "- ratings — ratings:\n",
    "\n",
    "**Contains data about user ratings:**\n",
    "\n",
    "- rating_id — rating identifier\n",
    "- book_id —  book identifier\n",
    "- username — the username of the person who rated the book\n",
    "- rating — rating\n",
    "- reviews — reviews:\n",
    "\n",
    "**Contains data about customer reviews:**\n",
    "\n",
    "- review_id — review identifier\n",
    "- book_id — book identifier\n",
    "- username — the username of the person who reviewed the book\n",
    "- text — review text"
   ]
  },
  {
   "cell_type": "markdown",
   "metadata": {},
   "source": [
    "## Connecting to the Database"
   ]
  },
  {
   "cell_type": "code",
   "execution_count": 18,
   "metadata": {},
   "outputs": [],
   "source": [
    "# Connection Settings\n",
    "db_config = {\n",
    "    'user': 'practicum_student',  # username\n",
    "    'pwd': 'QnmDH8Sc2TQLvy2G3Vvh7',  # password\n",
    "    'host': 'yp-trainers-practicum.cluster-czs0gxyx2d8w.us-east-1.rds.amazonaws.com',  # host\n",
    "    'port': 5432,  # port\n",
    "    'db': 'data-analyst-final-project-db'  # database name\n",
    "}\n",
    "\n",
    "# Connection String\n",
    "connection_string = 'postgresql://{}:{}@{}:{}/{}'.format(\n",
    "    db_config['user'],\n",
    "    db_config['pwd'],\n",
    "    db_config['host'],\n",
    "    db_config['port'],\n",
    "    db_config['db']\n",
    ")\n",
    "\n",
    "# The connection is stored in the variable 'engine'\n",
    "engine = create_engine(connection_string, connect_args={'sslmode':'require'})"
   ]
  },
  {
   "cell_type": "code",
   "execution_count": 19,
   "metadata": {},
   "outputs": [],
   "source": [
    "# pd.io.sql.read_sql(query, con = engine)"
   ]
  },
  {
   "cell_type": "markdown",
   "metadata": {},
   "source": [
    "## Displaying the Tables"
   ]
  },
  {
   "cell_type": "code",
   "execution_count": 20,
   "metadata": {
    "scrolled": false
   },
   "outputs": [
    {
     "name": "stdout",
     "output_type": "stream",
     "text": [
      "   book_id  author_id                                              title  \\\n",
      "0        1        546                                       'Salem's Lot   \n",
      "1        2        465                 1 000 Places to See Before You Die   \n",
      "2        3        407  13 Little Blue Envelopes (Little Blue Envelope...   \n",
      "3        4         82  1491: New Revelations of the Americas Before C...   \n",
      "4        5        125                                               1776   \n",
      "5        6        257               1st to Die (Women's Murder Club  #1)   \n",
      "6        7        258               2nd Chance (Women's Murder Club  #2)   \n",
      "7        8        260              4th of July (Women's Murder Club  #4)   \n",
      "8        9        563                                   A Beautiful Mind   \n",
      "9       10        445                                 A Bend in the Road   \n",
      "\n",
      "   num_pages publication_date  publisher_id  \n",
      "0        594       2005-11-01            93  \n",
      "1        992       2003-05-22           336  \n",
      "2        322       2010-12-21           135  \n",
      "3        541       2006-10-10           309  \n",
      "4        386       2006-07-04           268  \n",
      "5        424       2005-05-20           116  \n",
      "6        400       2005-05-20           116  \n",
      "7        448       2006-06-01           318  \n",
      "8        461       2002-02-04           104  \n",
      "9        341       2005-04-01           116  \n"
     ]
    }
   ],
   "source": [
    "query = \"\"\"\n",
    "SELECT *\n",
    "FROM books\n",
    "LIMIT 10;\n",
    "\"\"\"\n",
    "\n",
    "df_books_ex = pd.io.sql.read_sql(query, con = engine)\n",
    "\n",
    "print(df_books_ex)"
   ]
  },
  {
   "cell_type": "code",
   "execution_count": 21,
   "metadata": {
    "scrolled": false
   },
   "outputs": [
    {
     "name": "stdout",
     "output_type": "stream",
     "text": [
      "   review_id  book_id       username  \\\n",
      "0          1        1   brandtandrea   \n",
      "1          2        1     ryanfranco   \n",
      "2          3        2       lorichen   \n",
      "3          4        3  johnsonamanda   \n",
      "4          5        3    scotttamara   \n",
      "5          6        3    lesliegibbs   \n",
      "6          7        4   valenciaanne   \n",
      "7          8        4    abbottjames   \n",
      "8          9        5        npowers   \n",
      "9         10        5        staylor   \n",
      "\n",
      "                                                text  \n",
      "0  Mention society tell send professor analysis. ...  \n",
      "1  Foot glass pretty audience hit themselves. Amo...  \n",
      "2  Listen treat keep worry. Miss husband tax but ...  \n",
      "3  Finally month interesting blue could nature cu...  \n",
      "4  Nation purpose heavy give wait song will. List...  \n",
      "5           Analysis no several cause international.  \n",
      "6  One there cost another. Say type save. With pe...  \n",
      "7  Within enough mother. There at system full rec...  \n",
      "8  Thank now focus realize economy focus fly. Ite...  \n",
      "9  Game push lot reduce where remember. Including...  \n"
     ]
    }
   ],
   "source": [
    "query = \"\"\"\n",
    "SELECT *\n",
    "FROM reviews\n",
    "LIMIT 10;\n",
    "\"\"\"\n",
    "df_reviews_ex = pd.io.sql.read_sql(query, con = engine)\n",
    "\n",
    "print(df_reviews_ex)"
   ]
  },
  {
   "cell_type": "code",
   "execution_count": 22,
   "metadata": {
    "scrolled": true
   },
   "outputs": [
    {
     "name": "stdout",
     "output_type": "stream",
     "text": [
      "   publisher_id                                publisher\n",
      "0             1                                      Ace\n",
      "1             2                                 Ace Book\n",
      "2             3                                Ace Books\n",
      "3             4                            Ace Hardcover\n",
      "4             5        Addison Wesley Publishing Company\n",
      "5             6                                  Aladdin\n",
      "6             7                       Aladdin Paperbacks\n",
      "7             8                             Albin Michel\n",
      "8             9                          Alfred A. Knopf\n",
      "9            10  Alfred A. Knopf Books for Young Readers\n"
     ]
    }
   ],
   "source": [
    "query = \"\"\"\n",
    "SELECT *\n",
    "FROM publishers\n",
    "LIMIT 10;\n",
    "\"\"\"\n",
    "\n",
    "df_publishers_ex = pd.io.sql.read_sql(query, con = engine)\n",
    "\n",
    "print(df_publishers_ex)"
   ]
  },
  {
   "cell_type": "code",
   "execution_count": 23,
   "metadata": {},
   "outputs": [
    {
     "name": "stdout",
     "output_type": "stream",
     "text": [
      "   rating_id  book_id       username  rating\n",
      "0          1        1     ryanfranco       4\n",
      "1          2        1  grantpatricia       2\n",
      "2          3        1   brandtandrea       5\n",
      "3          4        2       lorichen       3\n",
      "4          5        2    mariokeller       2\n",
      "5          6        3  johnsonamanda       4\n",
      "6          7        3    scotttamara       5\n",
      "7          8        3    lesliegibbs       5\n",
      "8          9        4    abbottjames       5\n",
      "9         10        4   valenciaanne       4\n"
     ]
    }
   ],
   "source": [
    "query = \"\"\"\n",
    "SELECT *\n",
    "FROM ratings\n",
    "LIMIT 10;\n",
    "\"\"\"\n",
    "df_ratings_ex = pd.io.sql.read_sql(query, con = engine)\n",
    "\n",
    "print(df_ratings_ex)"
   ]
  },
  {
   "cell_type": "code",
   "execution_count": 24,
   "metadata": {},
   "outputs": [
    {
     "name": "stdout",
     "output_type": "stream",
     "text": [
      "   rating_id  book_id       username  rating\n",
      "0          1        1     ryanfranco       4\n",
      "1          2        1  grantpatricia       2\n",
      "2          3        1   brandtandrea       5\n",
      "3          4        2       lorichen       3\n",
      "4          5        2    mariokeller       2\n",
      "5          6        3  johnsonamanda       4\n",
      "6          7        3    scotttamara       5\n",
      "7          8        3    lesliegibbs       5\n",
      "8          9        4    abbottjames       5\n",
      "9         10        4   valenciaanne       4\n"
     ]
    }
   ],
   "source": [
    "query = \"\"\"\n",
    "SELECT *\n",
    "FROM ratings\n",
    "LIMIT 10;\n",
    "\"\"\"\n",
    "df_ratings_ex = pd.io.sql.read_sql(query, con = engine)\n",
    "\n",
    "print(df_ratings_ex)"
   ]
  },
  {
   "cell_type": "markdown",
   "metadata": {},
   "source": [
    "# Tasks\n",
    "\n",
    "- Find the number of books released after January 1, 2000.\n",
    "- Find the number of ratings and the average rating for each book.\n",
    "- Identify the publisher that released the most books with more than 50 pages (this will help exclude pamphlets and similar publications from your analysis).\n",
    "- Identify the author with the highest average book rating: consider only books with at least 50 ratings.\n",
    "- Find the average number of ratings among users who have rated more than 50 books."
   ]
  },
  {
   "cell_type": "code",
   "execution_count": 25,
   "metadata": {},
   "outputs": [
    {
     "name": "stdout",
     "output_type": "stream",
     "text": [
      "   num_books\n",
      "0        819\n"
     ]
    }
   ],
   "source": [
    "# Find the number of books released after January 1, 2000.\n",
    "query = \"\"\"\n",
    "SELECT COUNT(*) AS num_books\n",
    "FROM books\n",
    "WHERE publication_date > '2000-01-01';\n",
    "\"\"\"\n",
    "df_num_books = pd.io.sql.read_sql(query, con = engine)\n",
    "\n",
    "print(df_num_books)"
   ]
  },
  {
   "cell_type": "markdown",
   "metadata": {},
   "source": [
    "Note: A total of 819 books were found to have been released after January 1, 2000."
   ]
  },
  {
   "cell_type": "code",
   "execution_count": 26,
   "metadata": {
    "scrolled": true
   },
   "outputs": [
    {
     "name": "stdout",
     "output_type": "stream",
     "text": [
      "     book_id  num_rating  avg_rating\n",
      "0        652           2    4.500000\n",
      "1        273           2    4.500000\n",
      "2         51          12    4.250000\n",
      "3        951           2    4.000000\n",
      "4        839           7    4.285714\n",
      "..       ...         ...         ...\n",
      "995       64          13    4.230769\n",
      "996       55           2    5.000000\n",
      "997      148           7    3.428571\n",
      "998      790           2    3.500000\n",
      "999      828           2    3.000000\n",
      "\n",
      "[1000 rows x 3 columns]\n"
     ]
    }
   ],
   "source": [
    "# Find the number of ratings and the average rating for each book.\n",
    "query = \"\"\"\n",
    "SELECT book_id, COUNT(*) AS num_rating, AVG(rating) AS avg_rating\n",
    "FROM ratings\n",
    "GROUP BY book_id;\n",
    "\"\"\"\n",
    "\n",
    "df_ratings = pd.io.sql.read_sql(query, con = engine)\n",
    "\n",
    "print(df_ratings)"
   ]
  },
  {
   "cell_type": "markdown",
   "metadata": {},
   "source": [
    "Notes:\n",
    "\n",
    "Books with fewer reviews, such as 2 reviews, tend to have extreme ratings (such as 5.0 or 3.0). This means that the volume of reviews can influence the stability of the average rating.\n",
    "\n",
    "Books with a moderate number of reviews, between 7 and 13 reviews, show a greater variety of ratings. This may indicate a more diverse opinion from readers.\n",
    "\n",
    "Some books with few reviews achieve perfect ratings, such as the book with ID 55, which has a 5.0 rating based on only 2 reviews.\n",
    "\n",
    "Conclusion after observations: We can conclude that books with a higher number of reviews provide a more reliable perspective for readers, while books with few reviews should be analyzed carefully, as they may not represent the opinion of the majority."
   ]
  },
  {
   "cell_type": "code",
   "execution_count": 27,
   "metadata": {},
   "outputs": [
    {
     "name": "stdout",
     "output_type": "stream",
     "text": [
      "       publisher  num_books\n",
      "0  Penguin Books         42\n"
     ]
    }
   ],
   "source": [
    "# Identify the publisher that released the most books with more than 50 pages (this will help exclude pamphlets and similar publications from your analysis).\n",
    "query = \"\"\"\n",
    "SELECT publishers.publisher, COUNT(*) AS num_books\n",
    "FROM books\n",
    "JOIN publishers ON books.publisher_id = publishers.publisher_id\n",
    "WHERE num_pages > 50\n",
    "GROUP BY publishers.publisher\n",
    "ORDER BY num_books DESC\n",
    "LIMIT 1;\n",
    "\"\"\"\n",
    "\n",
    "df_publishers = pd.io.sql.read_sql(query, con = engine)\n",
    "\n",
    "print(df_publishers)"
   ]
  },
  {
   "cell_type": "markdown",
   "metadata": {},
   "source": [
    "Note: Penguin Books was the publisher that released the most books with over 50 pages."
   ]
  },
  {
   "cell_type": "code",
   "execution_count": 28,
   "metadata": {},
   "outputs": [
    {
     "name": "stdout",
     "output_type": "stream",
     "text": [
      "                       author  avg_author_rating\n",
      "0  J.K. Rowling/Mary GrandPré           4.283844\n"
     ]
    }
   ],
   "source": [
    "# Identify the author with the highest average book rating: consider only books with at least 50 ratings.\n",
    "query = \"\"\"\n",
    "WITH filtered_books AS (\n",
    "    SELECT books.book_id, books.author_id, AVG(ratings.rating) AS avg_book_rating, COUNT(ratings.rating) AS num_ratings\n",
    "    FROM books\n",
    "    JOIN ratings ON books.book_id = ratings.book_id\n",
    "    GROUP BY books.book_id, books.author_id\n",
    "    HAVING COUNT(ratings.rating) >= 50\n",
    ")\n",
    "\n",
    "SELECT authors.author, AVG(filtered_books.avg_book_rating) AS avg_author_rating\n",
    "FROM filtered_books\n",
    "JOIN authors ON filtered_books.author_id = authors.author_id\n",
    "GROUP BY authors.author\n",
    "ORDER BY avg_author_rating DESC\n",
    "LIMIT 1;\n",
    "\"\"\"\n",
    "\n",
    "df_top_author = pd.io.sql.read_sql(query, con=engine)\n",
    "\n",
    "print(df_top_author)"
   ]
  },
  {
   "cell_type": "markdown",
   "metadata": {},
   "source": [
    "Note: J.K. Rowling/Mary GrandPré has the highest average book ratings with at least 50 ratings, meaning J.K. Rowling/Mary GrandPré is a highly rated author, as their books maintain an average of 4.28."
   ]
  },
  {
   "cell_type": "code",
   "execution_count": 29,
   "metadata": {},
   "outputs": [
    {
     "name": "stdout",
     "output_type": "stream",
     "text": [
      "   avg_review_per_user\n",
      "0            24.333333\n"
     ]
    }
   ],
   "source": [
    "# Find the average number of ratings among users who have rated more than 50 books.\n",
    "query = \"\"\"\n",
    "WITH users_with_more_than_50_ratings AS (\n",
    "    SELECT username\n",
    "    FROM ratings\n",
    "    GROUP BY username\n",
    "    HAVING COUNT(book_id) > 50\n",
    ")\n",
    "SELECT AVG(review_count) AS avg_review_per_user\n",
    "FROM (\n",
    "    SELECT reviews.username, COUNT(reviews.review_id) AS review_count\n",
    "    FROM reviews\n",
    "    JOIN users_with_more_than_50_ratings ON reviews.username = users_with_more_than_50_ratings.username\n",
    "    GROUP BY reviews.username\n",
    ") AS user_review_counts;\n",
    "\"\"\"\n",
    "\n",
    "df_users_50_ratings = pd.io.sql.read_sql(query, con=engine)\n",
    "\n",
    "print(df_users_50_ratings)"
   ]
  },
  {
   "cell_type": "markdown",
   "metadata": {},
   "source": [
    "Note: With an average of 24.33 ratings per user, we can observe that after reaching the threshold of 24 reviews, users tend to stop rating a larger number of books."
   ]
  },
  {
   "cell_type": "markdown",
   "metadata": {},
   "source": [
    "### Conclusion:\n",
    "\n",
    "- After the analysis, it can be concluded that books with more reviews provide a more balanced, reliable, and representative view of readers' opinions.\n",
    "\n",
    "- Publishers that release more books, such as Penguin Books, demonstrate a strong market presence, which may be related to their popularity and influence.\n",
    "\n",
    "- J.K. Rowling/Mary GrandPré stands out as an author with a high average rating, being well-regarded and with books that hold high credibility among readers.\n",
    "\n",
    "- Additionally, we can observe that after reaching a certain number of reviews, users tend to decrease or stop reviewing other books, suggesting a behavior of saturation in terms of participation."
   ]
  }
 ],
 "metadata": {
  "ExecuteTimeLog": [
   {
    "duration": 8,
    "start_time": "2024-09-26T16:36:00.746Z"
   },
   {
    "duration": 4,
    "start_time": "2024-09-26T16:36:15.408Z"
   },
   {
    "duration": 157,
    "start_time": "2024-09-26T16:36:23.740Z"
   },
   {
    "duration": 358,
    "start_time": "2024-09-26T16:49:44.950Z"
   },
   {
    "duration": 4,
    "start_time": "2024-09-26T16:49:50.869Z"
   },
   {
    "duration": 5,
    "start_time": "2024-09-26T16:51:42.614Z"
   },
   {
    "duration": 71,
    "start_time": "2024-09-26T16:54:53.657Z"
   },
   {
    "duration": 401,
    "start_time": "2024-09-26T16:56:12.976Z"
   },
   {
    "duration": 84,
    "start_time": "2024-09-26T16:56:13.379Z"
   },
   {
    "duration": 4,
    "start_time": "2024-09-26T17:00:06.227Z"
   },
   {
    "duration": 31,
    "start_time": "2024-09-26T17:00:08.787Z"
   },
   {
    "duration": 4,
    "start_time": "2024-09-26T17:02:26.208Z"
   },
   {
    "duration": 8,
    "start_time": "2024-09-26T17:02:58.901Z"
   },
   {
    "duration": 8,
    "start_time": "2024-09-26T17:03:11.332Z"
   },
   {
    "duration": 7,
    "start_time": "2024-09-26T17:03:29.281Z"
   },
   {
    "duration": 8,
    "start_time": "2024-09-26T17:04:07.072Z"
   },
   {
    "duration": 2,
    "start_time": "2024-09-26T17:05:46.963Z"
   },
   {
    "duration": 4,
    "start_time": "2024-09-26T17:05:53.719Z"
   },
   {
    "duration": 3,
    "start_time": "2024-09-26T17:06:54.997Z"
   },
   {
    "duration": 2,
    "start_time": "2024-09-26T17:07:11.476Z"
   },
   {
    "duration": 2,
    "start_time": "2024-09-26T17:13:15.953Z"
   },
   {
    "duration": 35,
    "start_time": "2024-09-26T17:21:54.963Z"
   },
   {
    "duration": 8,
    "start_time": "2024-09-26T17:22:38.339Z"
   },
   {
    "duration": 13,
    "start_time": "2024-09-26T17:22:47.115Z"
   },
   {
    "duration": 9,
    "start_time": "2024-09-26T17:33:32.523Z"
   },
   {
    "duration": 4,
    "start_time": "2024-09-26T17:40:36.977Z"
   },
   {
    "duration": 10,
    "start_time": "2024-09-26T17:48:00.456Z"
   },
   {
    "duration": 613,
    "start_time": "2024-09-26T17:50:20.242Z"
   },
   {
    "duration": 14,
    "start_time": "2024-09-26T17:51:36.005Z"
   },
   {
    "duration": 18,
    "start_time": "2024-09-26T17:51:40.013Z"
   },
   {
    "duration": 104,
    "start_time": "2024-09-26T17:55:55.335Z"
   },
   {
    "duration": 9,
    "start_time": "2024-09-26T17:56:23.065Z"
   },
   {
    "duration": 4,
    "start_time": "2024-09-26T18:20:07.333Z"
   },
   {
    "duration": 3,
    "start_time": "2024-09-26T18:20:14.269Z"
   },
   {
    "duration": 2,
    "start_time": "2024-09-26T18:20:26.495Z"
   },
   {
    "duration": 3,
    "start_time": "2024-09-26T18:20:52.702Z"
   },
   {
    "duration": 8,
    "start_time": "2024-09-26T18:22:25.801Z"
   },
   {
    "duration": 9,
    "start_time": "2024-09-26T18:22:59.238Z"
   },
   {
    "duration": 9,
    "start_time": "2024-09-26T18:23:19.607Z"
   },
   {
    "duration": 9,
    "start_time": "2024-09-26T18:23:25.269Z"
   },
   {
    "duration": 9,
    "start_time": "2024-09-26T18:23:29.879Z"
   },
   {
    "duration": 9,
    "start_time": "2024-09-26T18:23:33.408Z"
   },
   {
    "duration": 8,
    "start_time": "2024-09-26T18:24:16.280Z"
   },
   {
    "duration": 10,
    "start_time": "2024-09-26T18:24:37.884Z"
   },
   {
    "duration": 383,
    "start_time": "2024-09-26T18:24:51.322Z"
   },
   {
    "duration": 21,
    "start_time": "2024-09-26T18:24:51.708Z"
   },
   {
    "duration": 2,
    "start_time": "2024-09-26T18:24:51.731Z"
   },
   {
    "duration": 46,
    "start_time": "2024-09-26T18:24:51.734Z"
   },
   {
    "duration": 8,
    "start_time": "2024-09-26T18:24:51.783Z"
   },
   {
    "duration": 7,
    "start_time": "2024-09-26T18:24:51.792Z"
   },
   {
    "duration": 8,
    "start_time": "2024-09-26T18:24:51.800Z"
   },
   {
    "duration": 8,
    "start_time": "2024-09-26T18:24:51.809Z"
   },
   {
    "duration": 7,
    "start_time": "2024-09-26T18:24:51.819Z"
   },
   {
    "duration": 15,
    "start_time": "2024-09-26T18:24:51.827Z"
   },
   {
    "duration": 8,
    "start_time": "2024-09-26T18:24:51.844Z"
   },
   {
    "duration": 13,
    "start_time": "2024-09-26T18:24:51.853Z"
   },
   {
    "duration": 26,
    "start_time": "2024-09-26T18:24:51.867Z"
   },
   {
    "duration": 371,
    "start_time": "2024-09-27T19:24:21.264Z"
   },
   {
    "duration": 23,
    "start_time": "2024-09-27T19:24:21.638Z"
   },
   {
    "duration": 2,
    "start_time": "2024-09-27T19:24:21.662Z"
   },
   {
    "duration": 35,
    "start_time": "2024-09-27T19:24:21.666Z"
   },
   {
    "duration": 9,
    "start_time": "2024-09-27T19:24:21.703Z"
   },
   {
    "duration": 7,
    "start_time": "2024-09-27T19:24:21.714Z"
   },
   {
    "duration": 11,
    "start_time": "2024-09-27T19:24:21.722Z"
   },
   {
    "duration": 11,
    "start_time": "2024-09-27T19:24:21.734Z"
   },
   {
    "duration": 7,
    "start_time": "2024-09-27T19:24:21.746Z"
   },
   {
    "duration": 22,
    "start_time": "2024-09-27T19:24:21.755Z"
   },
   {
    "duration": 9,
    "start_time": "2024-09-27T19:24:21.779Z"
   },
   {
    "duration": 13,
    "start_time": "2024-09-27T19:24:21.789Z"
   },
   {
    "duration": 9,
    "start_time": "2024-09-27T19:24:21.804Z"
   },
   {
    "duration": 325,
    "start_time": "2024-09-27T19:44:34.187Z"
   },
   {
    "duration": 20,
    "start_time": "2024-09-27T19:44:34.514Z"
   },
   {
    "duration": 2,
    "start_time": "2024-09-27T19:44:34.536Z"
   },
   {
    "duration": 35,
    "start_time": "2024-09-27T19:44:34.541Z"
   },
   {
    "duration": 8,
    "start_time": "2024-09-27T19:44:34.578Z"
   },
   {
    "duration": 7,
    "start_time": "2024-09-27T19:44:34.588Z"
   },
   {
    "duration": 8,
    "start_time": "2024-09-27T19:44:34.596Z"
   },
   {
    "duration": 8,
    "start_time": "2024-09-27T19:44:34.605Z"
   },
   {
    "duration": 9,
    "start_time": "2024-09-27T19:44:34.615Z"
   },
   {
    "duration": 13,
    "start_time": "2024-09-27T19:44:34.626Z"
   },
   {
    "duration": 9,
    "start_time": "2024-09-27T19:44:34.641Z"
   },
   {
    "duration": 13,
    "start_time": "2024-09-27T19:44:34.652Z"
   },
   {
    "duration": 10,
    "start_time": "2024-09-27T19:44:34.667Z"
   },
   {
    "duration": 393,
    "start_time": "2024-09-28T15:55:07.832Z"
   },
   {
    "duration": 30,
    "start_time": "2024-09-28T15:55:08.228Z"
   },
   {
    "duration": 2,
    "start_time": "2024-09-28T15:55:08.260Z"
   },
   {
    "duration": 30,
    "start_time": "2024-09-28T15:55:08.265Z"
   },
   {
    "duration": 7,
    "start_time": "2024-09-28T15:55:08.297Z"
   },
   {
    "duration": 6,
    "start_time": "2024-09-28T15:55:08.306Z"
   },
   {
    "duration": 17,
    "start_time": "2024-09-28T15:55:08.314Z"
   },
   {
    "duration": 6,
    "start_time": "2024-09-28T15:55:08.333Z"
   },
   {
    "duration": 6,
    "start_time": "2024-09-28T15:55:08.341Z"
   },
   {
    "duration": 12,
    "start_time": "2024-09-28T15:55:08.350Z"
   },
   {
    "duration": 7,
    "start_time": "2024-09-28T15:55:08.364Z"
   },
   {
    "duration": 12,
    "start_time": "2024-09-28T15:55:08.373Z"
   },
   {
    "duration": 8,
    "start_time": "2024-09-28T15:55:08.386Z"
   },
   {
    "duration": 2,
    "start_time": "2024-09-28T15:55:19.635Z"
   },
   {
    "duration": 11,
    "start_time": "2024-09-28T15:56:02.335Z"
   },
   {
    "duration": 10,
    "start_time": "2024-09-28T15:59:50.110Z"
   },
   {
    "duration": 11,
    "start_time": "2024-09-28T17:37:27.042Z"
   },
   {
    "duration": 609,
    "start_time": "2024-09-28T17:38:34.771Z"
   },
   {
    "duration": 112,
    "start_time": "2024-09-28T17:39:04.517Z"
   },
   {
    "duration": 11,
    "start_time": "2024-09-28T17:39:13.004Z"
   },
   {
    "duration": 5,
    "start_time": "2024-09-28T17:42:45.878Z"
   },
   {
    "duration": 326,
    "start_time": "2024-09-28T17:51:08.705Z"
   },
   {
    "duration": 21,
    "start_time": "2024-09-28T17:51:09.033Z"
   },
   {
    "duration": 3,
    "start_time": "2024-09-28T17:51:09.055Z"
   },
   {
    "duration": 36,
    "start_time": "2024-09-28T17:51:09.060Z"
   },
   {
    "duration": 6,
    "start_time": "2024-09-28T17:51:09.100Z"
   },
   {
    "duration": 7,
    "start_time": "2024-09-28T17:51:09.108Z"
   },
   {
    "duration": 6,
    "start_time": "2024-09-28T17:51:09.116Z"
   },
   {
    "duration": 11,
    "start_time": "2024-09-28T17:51:09.124Z"
   },
   {
    "duration": 6,
    "start_time": "2024-09-28T17:51:09.136Z"
   },
   {
    "duration": 12,
    "start_time": "2024-09-28T17:51:09.143Z"
   },
   {
    "duration": 7,
    "start_time": "2024-09-28T17:51:09.156Z"
   },
   {
    "duration": 10,
    "start_time": "2024-09-28T17:51:09.165Z"
   },
   {
    "duration": 12,
    "start_time": "2024-09-28T17:51:09.176Z"
   },
   {
    "duration": 11,
    "start_time": "2024-09-28T17:51:56.863Z"
   },
   {
    "duration": 19,
    "start_time": "2024-09-28T17:52:06.126Z"
   },
   {
    "duration": 17,
    "start_time": "2024-09-28T17:52:11.905Z"
   },
   {
    "duration": 17,
    "start_time": "2024-09-28T17:52:17.964Z"
   },
   {
    "duration": 11,
    "start_time": "2024-09-28T17:52:25.422Z"
   },
   {
    "duration": 11,
    "start_time": "2024-09-28T17:52:29.351Z"
   },
   {
    "duration": 11,
    "start_time": "2024-09-28T17:52:38.350Z"
   },
   {
    "duration": 12,
    "start_time": "2024-09-28T17:52:40.847Z"
   },
   {
    "duration": 11,
    "start_time": "2024-09-28T17:52:42.350Z"
   },
   {
    "duration": 11,
    "start_time": "2024-09-28T17:52:43.302Z"
   },
   {
    "duration": 12,
    "start_time": "2024-09-28T17:52:45.876Z"
   },
   {
    "duration": 11,
    "start_time": "2024-09-28T17:52:48.631Z"
   },
   {
    "duration": 10,
    "start_time": "2024-09-28T17:52:52.438Z"
   },
   {
    "duration": 9,
    "start_time": "2024-09-28T17:52:53.662Z"
   },
   {
    "duration": 9,
    "start_time": "2024-09-28T17:52:57.246Z"
   },
   {
    "duration": 8,
    "start_time": "2024-09-28T17:53:29.847Z"
   },
   {
    "duration": 4,
    "start_time": "2024-09-28T17:55:16.589Z"
   },
   {
    "duration": 198,
    "start_time": "2024-09-28T17:56:05.105Z"
   },
   {
    "duration": 18,
    "start_time": "2024-09-28T17:56:11.271Z"
   },
   {
    "duration": 19,
    "start_time": "2024-09-28T17:56:27.048Z"
   },
   {
    "duration": 10,
    "start_time": "2024-09-28T17:56:31.441Z"
   },
   {
    "duration": 10,
    "start_time": "2024-09-28T17:56:39.041Z"
   },
   {
    "duration": 357,
    "start_time": "2024-09-28T17:56:48.374Z"
   },
   {
    "duration": 22,
    "start_time": "2024-09-28T17:56:48.734Z"
   },
   {
    "duration": 2,
    "start_time": "2024-09-28T17:56:48.757Z"
   },
   {
    "duration": 29,
    "start_time": "2024-09-28T17:56:48.761Z"
   },
   {
    "duration": 7,
    "start_time": "2024-09-28T17:56:48.793Z"
   },
   {
    "duration": 7,
    "start_time": "2024-09-28T17:56:48.802Z"
   },
   {
    "duration": 6,
    "start_time": "2024-09-28T17:56:48.810Z"
   },
   {
    "duration": 7,
    "start_time": "2024-09-28T17:56:48.831Z"
   },
   {
    "duration": 6,
    "start_time": "2024-09-28T17:56:48.839Z"
   },
   {
    "duration": 13,
    "start_time": "2024-09-28T17:56:48.846Z"
   },
   {
    "duration": 7,
    "start_time": "2024-09-28T17:56:48.861Z"
   },
   {
    "duration": 11,
    "start_time": "2024-09-28T17:56:48.869Z"
   },
   {
    "duration": 8,
    "start_time": "2024-09-28T17:56:48.881Z"
   }
  ],
  "kernelspec": {
   "display_name": "base",
   "language": "python",
   "name": "python3"
  },
  "language_info": {
   "codemirror_mode": {
    "name": "ipython",
    "version": 3
   },
   "file_extension": ".py",
   "mimetype": "text/x-python",
   "name": "python",
   "nbconvert_exporter": "python",
   "pygments_lexer": "ipython3",
   "version": "3.11.10"
  },
  "toc": {
   "base_numbering": 1,
   "nav_menu": {},
   "number_sections": true,
   "sideBar": true,
   "skip_h1_title": true,
   "title_cell": "Table of Contents",
   "title_sidebar": "Contents",
   "toc_cell": false,
   "toc_position": {},
   "toc_section_display": true,
   "toc_window_display": false
  }
 },
 "nbformat": 4,
 "nbformat_minor": 2
}
