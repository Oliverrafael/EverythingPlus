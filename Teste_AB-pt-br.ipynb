{
 "cells": [
  {
   "cell_type": "markdown",
   "metadata": {},
   "source": [
    "## Descrição do projeto"
   ]
  },
  {
   "cell_type": "markdown",
   "metadata": {},
   "source": [
    "Você recebeu uma tarefa analítica de uma loja online internacional. Seu predecessor não conseguiu completá-la: ele lançou um teste A/B e depois desistiu (para começar uma fazenda de melancias no Tocantins). Ele deixou apenas as especificações técnicas e resultado dos testes.\n",
    "\n",
    "**Descrição Técnica**\n",
    "- Nome do teste: recommender_system_test\n",
    "- Grupos: A (controle) e B (funil de novos pagamentos)\n",
    "- Data de início: 07-12-2020\n",
    "- Quando paparam de receber novos usuários: 21-12-2020\n",
    "- Data de término: 01-01-2021\n",
    "- Público: 15% de novos usuários da região da UE\n",
    "- Propósito do teste: testar mudanças relacionadas à introdução de um sistema de recomendação melhorado\n",
    "- Resultado esperado: em até 14 dias após o cadastro, usuários mostram uma conversão melhor nas visualizações de página do produto (o evento product_page event), em adicionar itens ao carrinho (product_cart) e de compras (purchase). Em cada etapa do funil product_page → product_cart → purchase, haverá ao menos 10% de aumento.\n",
    "- Número esperado de participantes do teste: 6000"
   ]
  },
  {
   "cell_type": "markdown",
   "metadata": {},
   "source": [
    "## Importando as bibliotecas"
   ]
  },
  {
   "cell_type": "code",
   "execution_count": 1,
   "metadata": {},
   "outputs": [],
   "source": [
    "import pandas as pd\n",
    "import numpy as np\n",
    "import seaborn as sns\n",
    "import matplotlib.pyplot as plt\n",
    "from statsmodels.stats.proportion import proportions_ztest"
   ]
  },
  {
   "cell_type": "markdown",
   "metadata": {},
   "source": [
    "## Carregando os arquivos"
   ]
  },
  {
   "cell_type": "code",
   "execution_count": 2,
   "metadata": {},
   "outputs": [],
   "source": [
    "# o calendário de eventos de marketing para 2020\n",
    "df_ab_calendario = pd.read_csv(\"ab_project_marketing_events_us.csv\")"
   ]
  },
  {
   "cell_type": "code",
   "execution_count": 3,
   "metadata": {},
   "outputs": [],
   "source": [
    "# todos os usuários que se cadastraram na loja online de 7 a 21 de dezembro de 2020\n",
    "df_ab_users = pd.read_csv(\"final_ab_new_users_upd_us.csv\")"
   ]
  },
  {
   "cell_type": "code",
   "execution_count": 4,
   "metadata": {},
   "outputs": [],
   "source": [
    "# todos os eventos dos novos usuários dentro do período de 7 de dezembro de 2020 até 1 de janeiro de 2021\n",
    "df_ab_events = pd.read_csv(\"final_ab_events_upd_us.csv\")"
   ]
  },
  {
   "cell_type": "code",
   "execution_count": 5,
   "metadata": {},
   "outputs": [],
   "source": [
    "#  tabela contendo os participantes do teste\n",
    "df_ab_test = pd.read_csv(\"final_ab_participants_upd_us.csv\")"
   ]
  },
  {
   "cell_type": "markdown",
   "metadata": {},
   "source": [
    "## Visualizando os dados"
   ]
  },
  {
   "cell_type": "code",
   "execution_count": 6,
   "metadata": {},
   "outputs": [
    {
     "data": {
      "text/html": [
       "<div>\n",
       "<style scoped>\n",
       "    .dataframe tbody tr th:only-of-type {\n",
       "        vertical-align: middle;\n",
       "    }\n",
       "\n",
       "    .dataframe tbody tr th {\n",
       "        vertical-align: top;\n",
       "    }\n",
       "\n",
       "    .dataframe thead th {\n",
       "        text-align: right;\n",
       "    }\n",
       "</style>\n",
       "<table border=\"1\" class=\"dataframe\">\n",
       "  <thead>\n",
       "    <tr style=\"text-align: right;\">\n",
       "      <th></th>\n",
       "      <th>name</th>\n",
       "      <th>regions</th>\n",
       "      <th>start_dt</th>\n",
       "      <th>finish_dt</th>\n",
       "    </tr>\n",
       "  </thead>\n",
       "  <tbody>\n",
       "    <tr>\n",
       "      <th>0</th>\n",
       "      <td>Christmas&amp;New Year Promo</td>\n",
       "      <td>EU, N.America</td>\n",
       "      <td>2020-12-25</td>\n",
       "      <td>2021-01-03</td>\n",
       "    </tr>\n",
       "    <tr>\n",
       "      <th>1</th>\n",
       "      <td>St. Valentine's Day Giveaway</td>\n",
       "      <td>EU, CIS, APAC, N.America</td>\n",
       "      <td>2020-02-14</td>\n",
       "      <td>2020-02-16</td>\n",
       "    </tr>\n",
       "    <tr>\n",
       "      <th>2</th>\n",
       "      <td>St. Patric's Day Promo</td>\n",
       "      <td>EU, N.America</td>\n",
       "      <td>2020-03-17</td>\n",
       "      <td>2020-03-19</td>\n",
       "    </tr>\n",
       "    <tr>\n",
       "      <th>3</th>\n",
       "      <td>Easter Promo</td>\n",
       "      <td>EU, CIS, APAC, N.America</td>\n",
       "      <td>2020-04-12</td>\n",
       "      <td>2020-04-19</td>\n",
       "    </tr>\n",
       "    <tr>\n",
       "      <th>4</th>\n",
       "      <td>4th of July Promo</td>\n",
       "      <td>N.America</td>\n",
       "      <td>2020-07-04</td>\n",
       "      <td>2020-07-11</td>\n",
       "    </tr>\n",
       "  </tbody>\n",
       "</table>\n",
       "</div>"
      ],
      "text/plain": [
       "                           name                   regions    start_dt  \\\n",
       "0      Christmas&New Year Promo             EU, N.America  2020-12-25   \n",
       "1  St. Valentine's Day Giveaway  EU, CIS, APAC, N.America  2020-02-14   \n",
       "2        St. Patric's Day Promo             EU, N.America  2020-03-17   \n",
       "3                  Easter Promo  EU, CIS, APAC, N.America  2020-04-12   \n",
       "4             4th of July Promo                 N.America  2020-07-04   \n",
       "\n",
       "    finish_dt  \n",
       "0  2021-01-03  \n",
       "1  2020-02-16  \n",
       "2  2020-03-19  \n",
       "3  2020-04-19  \n",
       "4  2020-07-11  "
      ]
     },
     "execution_count": 6,
     "metadata": {},
     "output_type": "execute_result"
    }
   ],
   "source": [
    "df_ab_calendario.head()"
   ]
  },
  {
   "cell_type": "code",
   "execution_count": 7,
   "metadata": {},
   "outputs": [
    {
     "data": {
      "text/html": [
       "<div>\n",
       "<style scoped>\n",
       "    .dataframe tbody tr th:only-of-type {\n",
       "        vertical-align: middle;\n",
       "    }\n",
       "\n",
       "    .dataframe tbody tr th {\n",
       "        vertical-align: top;\n",
       "    }\n",
       "\n",
       "    .dataframe thead th {\n",
       "        text-align: right;\n",
       "    }\n",
       "</style>\n",
       "<table border=\"1\" class=\"dataframe\">\n",
       "  <thead>\n",
       "    <tr style=\"text-align: right;\">\n",
       "      <th></th>\n",
       "      <th>user_id</th>\n",
       "      <th>first_date</th>\n",
       "      <th>region</th>\n",
       "      <th>device</th>\n",
       "    </tr>\n",
       "  </thead>\n",
       "  <tbody>\n",
       "    <tr>\n",
       "      <th>0</th>\n",
       "      <td>D72A72121175D8BE</td>\n",
       "      <td>2020-12-07</td>\n",
       "      <td>EU</td>\n",
       "      <td>PC</td>\n",
       "    </tr>\n",
       "    <tr>\n",
       "      <th>1</th>\n",
       "      <td>F1C668619DFE6E65</td>\n",
       "      <td>2020-12-07</td>\n",
       "      <td>N.America</td>\n",
       "      <td>Android</td>\n",
       "    </tr>\n",
       "    <tr>\n",
       "      <th>2</th>\n",
       "      <td>2E1BF1D4C37EA01F</td>\n",
       "      <td>2020-12-07</td>\n",
       "      <td>EU</td>\n",
       "      <td>PC</td>\n",
       "    </tr>\n",
       "    <tr>\n",
       "      <th>3</th>\n",
       "      <td>50734A22C0C63768</td>\n",
       "      <td>2020-12-07</td>\n",
       "      <td>EU</td>\n",
       "      <td>iPhone</td>\n",
       "    </tr>\n",
       "    <tr>\n",
       "      <th>4</th>\n",
       "      <td>E1BDDCE0DAFA2679</td>\n",
       "      <td>2020-12-07</td>\n",
       "      <td>N.America</td>\n",
       "      <td>iPhone</td>\n",
       "    </tr>\n",
       "  </tbody>\n",
       "</table>\n",
       "</div>"
      ],
      "text/plain": [
       "            user_id  first_date     region   device\n",
       "0  D72A72121175D8BE  2020-12-07         EU       PC\n",
       "1  F1C668619DFE6E65  2020-12-07  N.America  Android\n",
       "2  2E1BF1D4C37EA01F  2020-12-07         EU       PC\n",
       "3  50734A22C0C63768  2020-12-07         EU   iPhone\n",
       "4  E1BDDCE0DAFA2679  2020-12-07  N.America   iPhone"
      ]
     },
     "execution_count": 7,
     "metadata": {},
     "output_type": "execute_result"
    }
   ],
   "source": [
    "df_ab_users.head()"
   ]
  },
  {
   "cell_type": "code",
   "execution_count": 8,
   "metadata": {},
   "outputs": [
    {
     "data": {
      "text/html": [
       "<div>\n",
       "<style scoped>\n",
       "    .dataframe tbody tr th:only-of-type {\n",
       "        vertical-align: middle;\n",
       "    }\n",
       "\n",
       "    .dataframe tbody tr th {\n",
       "        vertical-align: top;\n",
       "    }\n",
       "\n",
       "    .dataframe thead th {\n",
       "        text-align: right;\n",
       "    }\n",
       "</style>\n",
       "<table border=\"1\" class=\"dataframe\">\n",
       "  <thead>\n",
       "    <tr style=\"text-align: right;\">\n",
       "      <th></th>\n",
       "      <th>user_id</th>\n",
       "      <th>event_dt</th>\n",
       "      <th>event_name</th>\n",
       "      <th>details</th>\n",
       "    </tr>\n",
       "  </thead>\n",
       "  <tbody>\n",
       "    <tr>\n",
       "      <th>0</th>\n",
       "      <td>E1BDDCE0DAFA2679</td>\n",
       "      <td>2020-12-07 20:22:03</td>\n",
       "      <td>purchase</td>\n",
       "      <td>99.99</td>\n",
       "    </tr>\n",
       "    <tr>\n",
       "      <th>1</th>\n",
       "      <td>7B6452F081F49504</td>\n",
       "      <td>2020-12-07 09:22:53</td>\n",
       "      <td>purchase</td>\n",
       "      <td>9.99</td>\n",
       "    </tr>\n",
       "    <tr>\n",
       "      <th>2</th>\n",
       "      <td>9CD9F34546DF254C</td>\n",
       "      <td>2020-12-07 12:59:29</td>\n",
       "      <td>purchase</td>\n",
       "      <td>4.99</td>\n",
       "    </tr>\n",
       "    <tr>\n",
       "      <th>3</th>\n",
       "      <td>96F27A054B191457</td>\n",
       "      <td>2020-12-07 04:02:40</td>\n",
       "      <td>purchase</td>\n",
       "      <td>4.99</td>\n",
       "    </tr>\n",
       "    <tr>\n",
       "      <th>4</th>\n",
       "      <td>1FD7660FDF94CA1F</td>\n",
       "      <td>2020-12-07 10:15:09</td>\n",
       "      <td>purchase</td>\n",
       "      <td>4.99</td>\n",
       "    </tr>\n",
       "  </tbody>\n",
       "</table>\n",
       "</div>"
      ],
      "text/plain": [
       "            user_id             event_dt event_name  details\n",
       "0  E1BDDCE0DAFA2679  2020-12-07 20:22:03   purchase    99.99\n",
       "1  7B6452F081F49504  2020-12-07 09:22:53   purchase     9.99\n",
       "2  9CD9F34546DF254C  2020-12-07 12:59:29   purchase     4.99\n",
       "3  96F27A054B191457  2020-12-07 04:02:40   purchase     4.99\n",
       "4  1FD7660FDF94CA1F  2020-12-07 10:15:09   purchase     4.99"
      ]
     },
     "execution_count": 8,
     "metadata": {},
     "output_type": "execute_result"
    }
   ],
   "source": [
    "df_ab_events.head()"
   ]
  },
  {
   "cell_type": "code",
   "execution_count": 9,
   "metadata": {},
   "outputs": [
    {
     "data": {
      "text/html": [
       "<div>\n",
       "<style scoped>\n",
       "    .dataframe tbody tr th:only-of-type {\n",
       "        vertical-align: middle;\n",
       "    }\n",
       "\n",
       "    .dataframe tbody tr th {\n",
       "        vertical-align: top;\n",
       "    }\n",
       "\n",
       "    .dataframe thead th {\n",
       "        text-align: right;\n",
       "    }\n",
       "</style>\n",
       "<table border=\"1\" class=\"dataframe\">\n",
       "  <thead>\n",
       "    <tr style=\"text-align: right;\">\n",
       "      <th></th>\n",
       "      <th>user_id</th>\n",
       "      <th>group</th>\n",
       "      <th>ab_test</th>\n",
       "    </tr>\n",
       "  </thead>\n",
       "  <tbody>\n",
       "    <tr>\n",
       "      <th>0</th>\n",
       "      <td>D1ABA3E2887B6A73</td>\n",
       "      <td>A</td>\n",
       "      <td>recommender_system_test</td>\n",
       "    </tr>\n",
       "    <tr>\n",
       "      <th>1</th>\n",
       "      <td>A7A3664BD6242119</td>\n",
       "      <td>A</td>\n",
       "      <td>recommender_system_test</td>\n",
       "    </tr>\n",
       "    <tr>\n",
       "      <th>2</th>\n",
       "      <td>DABC14FDDFADD29E</td>\n",
       "      <td>A</td>\n",
       "      <td>recommender_system_test</td>\n",
       "    </tr>\n",
       "    <tr>\n",
       "      <th>3</th>\n",
       "      <td>04988C5DF189632E</td>\n",
       "      <td>A</td>\n",
       "      <td>recommender_system_test</td>\n",
       "    </tr>\n",
       "    <tr>\n",
       "      <th>4</th>\n",
       "      <td>4FF2998A348C484F</td>\n",
       "      <td>A</td>\n",
       "      <td>recommender_system_test</td>\n",
       "    </tr>\n",
       "  </tbody>\n",
       "</table>\n",
       "</div>"
      ],
      "text/plain": [
       "            user_id group                  ab_test\n",
       "0  D1ABA3E2887B6A73     A  recommender_system_test\n",
       "1  A7A3664BD6242119     A  recommender_system_test\n",
       "2  DABC14FDDFADD29E     A  recommender_system_test\n",
       "3  04988C5DF189632E     A  recommender_system_test\n",
       "4  4FF2998A348C484F     A  recommender_system_test"
      ]
     },
     "execution_count": 9,
     "metadata": {},
     "output_type": "execute_result"
    }
   ],
   "source": [
    "df_ab_test.head()"
   ]
  },
  {
   "cell_type": "markdown",
   "metadata": {},
   "source": [
    "## Pré-Processamento dos dados"
   ]
  },
  {
   "cell_type": "code",
   "execution_count": 10,
   "metadata": {
    "scrolled": true
   },
   "outputs": [
    {
     "name": "stdout",
     "output_type": "stream",
     "text": [
      "<class 'pandas.core.frame.DataFrame'>\n",
      "RangeIndex: 14 entries, 0 to 13\n",
      "Data columns (total 4 columns):\n",
      " #   Column     Non-Null Count  Dtype \n",
      "---  ------     --------------  ----- \n",
      " 0   name       14 non-null     object\n",
      " 1   regions    14 non-null     object\n",
      " 2   start_dt   14 non-null     object\n",
      " 3   finish_dt  14 non-null     object\n",
      "dtypes: object(4)\n",
      "memory usage: 580.0+ bytes\n"
     ]
    }
   ],
   "source": [
    "# Visualizando os dados e os tipos de dados\n",
    "df_ab_calendario.info()"
   ]
  },
  {
   "cell_type": "markdown",
   "metadata": {},
   "source": [
    "## Observações sobre os dados df_ab_calendario\n",
    "\n",
    "- Os dados do dataframe df_ab_calendario precisa de alterações de 'object' para 'datetime' nas seguintes colunas 'start_dt' e 'finish_dt'"
   ]
  },
  {
   "cell_type": "code",
   "execution_count": 11,
   "metadata": {},
   "outputs": [
    {
     "data": {
      "text/plain": [
       "0"
      ]
     },
     "execution_count": 11,
     "metadata": {},
     "output_type": "execute_result"
    }
   ],
   "source": [
    "# Procurando por valores duplicados\n",
    "df_ab_calendario.duplicated().sum()"
   ]
  },
  {
   "cell_type": "code",
   "execution_count": 12,
   "metadata": {},
   "outputs": [
    {
     "data": {
      "text/plain": [
       "name         0\n",
       "regions      0\n",
       "start_dt     0\n",
       "finish_dt    0\n",
       "dtype: int64"
      ]
     },
     "execution_count": 12,
     "metadata": {},
     "output_type": "execute_result"
    }
   ],
   "source": [
    "# Localizando valores ausentes\n",
    "df_ab_calendario.isna().sum()"
   ]
  },
  {
   "cell_type": "code",
   "execution_count": 13,
   "metadata": {},
   "outputs": [],
   "source": [
    "# Convertendo o tipo de dado de 'start_dt'\n",
    "df_ab_calendario['start_dt'] = pd.to_datetime(df_ab_calendario['start_dt'])"
   ]
  },
  {
   "cell_type": "code",
   "execution_count": 14,
   "metadata": {},
   "outputs": [],
   "source": [
    "# Convertendo o tipo de dado de 'finish_dt'\n",
    "df_ab_calendario['finish_dt'] = pd.to_datetime(df_ab_calendario['finish_dt'])"
   ]
  },
  {
   "cell_type": "code",
   "execution_count": 15,
   "metadata": {},
   "outputs": [
    {
     "data": {
      "text/html": [
       "<div>\n",
       "<style scoped>\n",
       "    .dataframe tbody tr th:only-of-type {\n",
       "        vertical-align: middle;\n",
       "    }\n",
       "\n",
       "    .dataframe tbody tr th {\n",
       "        vertical-align: top;\n",
       "    }\n",
       "\n",
       "    .dataframe thead th {\n",
       "        text-align: right;\n",
       "    }\n",
       "</style>\n",
       "<table border=\"1\" class=\"dataframe\">\n",
       "  <thead>\n",
       "    <tr style=\"text-align: right;\">\n",
       "      <th></th>\n",
       "      <th>name</th>\n",
       "      <th>regions</th>\n",
       "      <th>start_dt</th>\n",
       "      <th>finish_dt</th>\n",
       "    </tr>\n",
       "  </thead>\n",
       "  <tbody>\n",
       "    <tr>\n",
       "      <th>0</th>\n",
       "      <td>Christmas&amp;New Year Promo</td>\n",
       "      <td>EU, N.America</td>\n",
       "      <td>2020-12-25</td>\n",
       "      <td>2021-01-03</td>\n",
       "    </tr>\n",
       "    <tr>\n",
       "      <th>1</th>\n",
       "      <td>St. Valentine's Day Giveaway</td>\n",
       "      <td>EU, CIS, APAC, N.America</td>\n",
       "      <td>2020-02-14</td>\n",
       "      <td>2020-02-16</td>\n",
       "    </tr>\n",
       "    <tr>\n",
       "      <th>2</th>\n",
       "      <td>St. Patric's Day Promo</td>\n",
       "      <td>EU, N.America</td>\n",
       "      <td>2020-03-17</td>\n",
       "      <td>2020-03-19</td>\n",
       "    </tr>\n",
       "    <tr>\n",
       "      <th>3</th>\n",
       "      <td>Easter Promo</td>\n",
       "      <td>EU, CIS, APAC, N.America</td>\n",
       "      <td>2020-04-12</td>\n",
       "      <td>2020-04-19</td>\n",
       "    </tr>\n",
       "    <tr>\n",
       "      <th>4</th>\n",
       "      <td>4th of July Promo</td>\n",
       "      <td>N.America</td>\n",
       "      <td>2020-07-04</td>\n",
       "      <td>2020-07-11</td>\n",
       "    </tr>\n",
       "    <tr>\n",
       "      <th>5</th>\n",
       "      <td>Black Friday Ads Campaign</td>\n",
       "      <td>EU, CIS, APAC, N.America</td>\n",
       "      <td>2020-11-26</td>\n",
       "      <td>2020-12-01</td>\n",
       "    </tr>\n",
       "    <tr>\n",
       "      <th>6</th>\n",
       "      <td>Chinese New Year Promo</td>\n",
       "      <td>APAC</td>\n",
       "      <td>2020-01-25</td>\n",
       "      <td>2020-02-07</td>\n",
       "    </tr>\n",
       "    <tr>\n",
       "      <th>7</th>\n",
       "      <td>Labor day (May 1st) Ads Campaign</td>\n",
       "      <td>EU, CIS, APAC</td>\n",
       "      <td>2020-05-01</td>\n",
       "      <td>2020-05-03</td>\n",
       "    </tr>\n",
       "    <tr>\n",
       "      <th>8</th>\n",
       "      <td>International Women's Day Promo</td>\n",
       "      <td>EU, CIS, APAC</td>\n",
       "      <td>2020-03-08</td>\n",
       "      <td>2020-03-10</td>\n",
       "    </tr>\n",
       "    <tr>\n",
       "      <th>9</th>\n",
       "      <td>Victory Day CIS (May 9th) Event</td>\n",
       "      <td>CIS</td>\n",
       "      <td>2020-05-09</td>\n",
       "      <td>2020-05-11</td>\n",
       "    </tr>\n",
       "    <tr>\n",
       "      <th>10</th>\n",
       "      <td>CIS New Year Gift Lottery</td>\n",
       "      <td>CIS</td>\n",
       "      <td>2020-12-30</td>\n",
       "      <td>2021-01-07</td>\n",
       "    </tr>\n",
       "    <tr>\n",
       "      <th>11</th>\n",
       "      <td>Dragon Boat Festival Giveaway</td>\n",
       "      <td>APAC</td>\n",
       "      <td>2020-06-25</td>\n",
       "      <td>2020-07-01</td>\n",
       "    </tr>\n",
       "    <tr>\n",
       "      <th>12</th>\n",
       "      <td>Single's Day Gift Promo</td>\n",
       "      <td>APAC</td>\n",
       "      <td>2020-11-11</td>\n",
       "      <td>2020-11-12</td>\n",
       "    </tr>\n",
       "    <tr>\n",
       "      <th>13</th>\n",
       "      <td>Chinese Moon Festival</td>\n",
       "      <td>APAC</td>\n",
       "      <td>2020-10-01</td>\n",
       "      <td>2020-10-07</td>\n",
       "    </tr>\n",
       "  </tbody>\n",
       "</table>\n",
       "</div>"
      ],
      "text/plain": [
       "                                name                   regions   start_dt  \\\n",
       "0           Christmas&New Year Promo             EU, N.America 2020-12-25   \n",
       "1       St. Valentine's Day Giveaway  EU, CIS, APAC, N.America 2020-02-14   \n",
       "2             St. Patric's Day Promo             EU, N.America 2020-03-17   \n",
       "3                       Easter Promo  EU, CIS, APAC, N.America 2020-04-12   \n",
       "4                  4th of July Promo                 N.America 2020-07-04   \n",
       "5          Black Friday Ads Campaign  EU, CIS, APAC, N.America 2020-11-26   \n",
       "6             Chinese New Year Promo                      APAC 2020-01-25   \n",
       "7   Labor day (May 1st) Ads Campaign             EU, CIS, APAC 2020-05-01   \n",
       "8    International Women's Day Promo             EU, CIS, APAC 2020-03-08   \n",
       "9    Victory Day CIS (May 9th) Event                       CIS 2020-05-09   \n",
       "10         CIS New Year Gift Lottery                       CIS 2020-12-30   \n",
       "11     Dragon Boat Festival Giveaway                      APAC 2020-06-25   \n",
       "12           Single's Day Gift Promo                      APAC 2020-11-11   \n",
       "13             Chinese Moon Festival                      APAC 2020-10-01   \n",
       "\n",
       "    finish_dt  \n",
       "0  2021-01-03  \n",
       "1  2020-02-16  \n",
       "2  2020-03-19  \n",
       "3  2020-04-19  \n",
       "4  2020-07-11  \n",
       "5  2020-12-01  \n",
       "6  2020-02-07  \n",
       "7  2020-05-03  \n",
       "8  2020-03-10  \n",
       "9  2020-05-11  \n",
       "10 2021-01-07  \n",
       "11 2020-07-01  \n",
       "12 2020-11-12  \n",
       "13 2020-10-07  "
      ]
     },
     "execution_count": 15,
     "metadata": {},
     "output_type": "execute_result"
    }
   ],
   "source": [
    "# Visualizando os dados\n",
    "df_ab_calendario.head(14)"
   ]
  },
  {
   "cell_type": "code",
   "execution_count": 16,
   "metadata": {
    "scrolled": false
   },
   "outputs": [
    {
     "name": "stdout",
     "output_type": "stream",
     "text": [
      "<class 'pandas.core.frame.DataFrame'>\n",
      "RangeIndex: 58703 entries, 0 to 58702\n",
      "Data columns (total 4 columns):\n",
      " #   Column      Non-Null Count  Dtype \n",
      "---  ------      --------------  ----- \n",
      " 0   user_id     58703 non-null  object\n",
      " 1   first_date  58703 non-null  object\n",
      " 2   region      58703 non-null  object\n",
      " 3   device      58703 non-null  object\n",
      "dtypes: object(4)\n",
      "memory usage: 1.8+ MB\n"
     ]
    }
   ],
   "source": [
    "# Visualizando os dados e os tipos de dados\n",
    "df_ab_users.info()"
   ]
  },
  {
   "cell_type": "markdown",
   "metadata": {},
   "source": [
    "## Observação sobre os dados de df_ab_users\n",
    "\n",
    "- Os dados do dataframe df_ab_users precisa de alterações de 'object' para 'datetime' na seguinte coluna 'first_date'.\n",
    "\n",
    "- Também farei alterações no nome da coluna N.America para melhor entendimento sobre a região."
   ]
  },
  {
   "cell_type": "code",
   "execution_count": 17,
   "metadata": {},
   "outputs": [
    {
     "data": {
      "text/plain": [
       "0"
      ]
     },
     "execution_count": 17,
     "metadata": {},
     "output_type": "execute_result"
    }
   ],
   "source": [
    "# Procurando por valores duplicados\n",
    "df_ab_users.duplicated().sum()"
   ]
  },
  {
   "cell_type": "code",
   "execution_count": 18,
   "metadata": {},
   "outputs": [
    {
     "data": {
      "text/plain": [
       "user_id       0\n",
       "first_date    0\n",
       "region        0\n",
       "device        0\n",
       "dtype: int64"
      ]
     },
     "execution_count": 18,
     "metadata": {},
     "output_type": "execute_result"
    }
   ],
   "source": [
    "# Localizando valores ausentes\n",
    "df_ab_users.isna().sum()"
   ]
  },
  {
   "cell_type": "code",
   "execution_count": 19,
   "metadata": {},
   "outputs": [],
   "source": [
    "# Convertendo o tipo de dado de 'first_date'\n",
    "df_ab_users['first_date'] = pd.to_datetime(df_ab_users['first_date'])"
   ]
  },
  {
   "cell_type": "code",
   "execution_count": 20,
   "metadata": {},
   "outputs": [],
   "source": [
    "# ALterando o nome da string de 'N.America' > 'NA'\n",
    "df_ab_users['region'] = df_ab_users['region'].replace('N.America', 'NA')"
   ]
  },
  {
   "cell_type": "code",
   "execution_count": 21,
   "metadata": {},
   "outputs": [
    {
     "data": {
      "text/html": [
       "<div>\n",
       "<style scoped>\n",
       "    .dataframe tbody tr th:only-of-type {\n",
       "        vertical-align: middle;\n",
       "    }\n",
       "\n",
       "    .dataframe tbody tr th {\n",
       "        vertical-align: top;\n",
       "    }\n",
       "\n",
       "    .dataframe thead th {\n",
       "        text-align: right;\n",
       "    }\n",
       "</style>\n",
       "<table border=\"1\" class=\"dataframe\">\n",
       "  <thead>\n",
       "    <tr style=\"text-align: right;\">\n",
       "      <th></th>\n",
       "      <th>user_id</th>\n",
       "      <th>first_date</th>\n",
       "      <th>region</th>\n",
       "      <th>device</th>\n",
       "    </tr>\n",
       "  </thead>\n",
       "  <tbody>\n",
       "    <tr>\n",
       "      <th>0</th>\n",
       "      <td>D72A72121175D8BE</td>\n",
       "      <td>2020-12-07</td>\n",
       "      <td>EU</td>\n",
       "      <td>PC</td>\n",
       "    </tr>\n",
       "    <tr>\n",
       "      <th>1</th>\n",
       "      <td>F1C668619DFE6E65</td>\n",
       "      <td>2020-12-07</td>\n",
       "      <td>NA</td>\n",
       "      <td>Android</td>\n",
       "    </tr>\n",
       "    <tr>\n",
       "      <th>2</th>\n",
       "      <td>2E1BF1D4C37EA01F</td>\n",
       "      <td>2020-12-07</td>\n",
       "      <td>EU</td>\n",
       "      <td>PC</td>\n",
       "    </tr>\n",
       "    <tr>\n",
       "      <th>3</th>\n",
       "      <td>50734A22C0C63768</td>\n",
       "      <td>2020-12-07</td>\n",
       "      <td>EU</td>\n",
       "      <td>iPhone</td>\n",
       "    </tr>\n",
       "    <tr>\n",
       "      <th>4</th>\n",
       "      <td>E1BDDCE0DAFA2679</td>\n",
       "      <td>2020-12-07</td>\n",
       "      <td>NA</td>\n",
       "      <td>iPhone</td>\n",
       "    </tr>\n",
       "  </tbody>\n",
       "</table>\n",
       "</div>"
      ],
      "text/plain": [
       "            user_id first_date region   device\n",
       "0  D72A72121175D8BE 2020-12-07     EU       PC\n",
       "1  F1C668619DFE6E65 2020-12-07     NA  Android\n",
       "2  2E1BF1D4C37EA01F 2020-12-07     EU       PC\n",
       "3  50734A22C0C63768 2020-12-07     EU   iPhone\n",
       "4  E1BDDCE0DAFA2679 2020-12-07     NA   iPhone"
      ]
     },
     "execution_count": 21,
     "metadata": {},
     "output_type": "execute_result"
    }
   ],
   "source": [
    "# Visualizando os dados\n",
    "df_ab_users.head()"
   ]
  },
  {
   "cell_type": "code",
   "execution_count": 22,
   "metadata": {
    "scrolled": false
   },
   "outputs": [
    {
     "name": "stdout",
     "output_type": "stream",
     "text": [
      "<class 'pandas.core.frame.DataFrame'>\n",
      "RangeIndex: 423761 entries, 0 to 423760\n",
      "Data columns (total 4 columns):\n",
      " #   Column      Non-Null Count   Dtype  \n",
      "---  ------      --------------   -----  \n",
      " 0   user_id     423761 non-null  object \n",
      " 1   event_dt    423761 non-null  object \n",
      " 2   event_name  423761 non-null  object \n",
      " 3   details     60314 non-null   float64\n",
      "dtypes: float64(1), object(3)\n",
      "memory usage: 12.9+ MB\n"
     ]
    }
   ],
   "source": [
    "# Visualizando os dados e os tipos de dados\n",
    "df_ab_events.info()"
   ]
  },
  {
   "cell_type": "code",
   "execution_count": 23,
   "metadata": {},
   "outputs": [
    {
     "data": {
      "text/plain": [
       "0"
      ]
     },
     "execution_count": 23,
     "metadata": {},
     "output_type": "execute_result"
    }
   ],
   "source": [
    "# Procurando por valores duplicados\n",
    "df_ab_events.duplicated().sum()"
   ]
  },
  {
   "cell_type": "code",
   "execution_count": 24,
   "metadata": {},
   "outputs": [
    {
     "data": {
      "text/plain": [
       "user_id            0\n",
       "event_dt           0\n",
       "event_name         0\n",
       "details       363447\n",
       "dtype: int64"
      ]
     },
     "execution_count": 24,
     "metadata": {},
     "output_type": "execute_result"
    }
   ],
   "source": [
    "# Localizando valores ausentes\n",
    "df_ab_events.isna().sum()"
   ]
  },
  {
   "cell_type": "markdown",
   "metadata": {},
   "source": [
    "# Observações sobre os dados de df_ab_events\n",
    "\n",
    "- Os valores ausentes em df_ab_events[ details ] não tem relação com os valores que gastos(USD) ou seja não são números, não irei  dropar os valores pois não interferem em meu objetivo."
   ]
  },
  {
   "cell_type": "code",
   "execution_count": 25,
   "metadata": {},
   "outputs": [],
   "source": [
    "# Convertendo o tipo de dado de 'event_dt'\n",
    "df_ab_events['event_dt'] = pd.to_datetime(df_ab_events['event_dt'])"
   ]
  },
  {
   "cell_type": "code",
   "execution_count": 26,
   "metadata": {
    "scrolled": false
   },
   "outputs": [
    {
     "data": {
      "text/html": [
       "<div>\n",
       "<style scoped>\n",
       "    .dataframe tbody tr th:only-of-type {\n",
       "        vertical-align: middle;\n",
       "    }\n",
       "\n",
       "    .dataframe tbody tr th {\n",
       "        vertical-align: top;\n",
       "    }\n",
       "\n",
       "    .dataframe thead th {\n",
       "        text-align: right;\n",
       "    }\n",
       "</style>\n",
       "<table border=\"1\" class=\"dataframe\">\n",
       "  <thead>\n",
       "    <tr style=\"text-align: right;\">\n",
       "      <th></th>\n",
       "      <th>user_id</th>\n",
       "      <th>event_dt</th>\n",
       "      <th>event_name</th>\n",
       "      <th>details</th>\n",
       "    </tr>\n",
       "  </thead>\n",
       "  <tbody>\n",
       "    <tr>\n",
       "      <th>423751</th>\n",
       "      <td>1455450835F72F5E</td>\n",
       "      <td>2020-12-30 09:27:10</td>\n",
       "      <td>login</td>\n",
       "      <td>NaN</td>\n",
       "    </tr>\n",
       "    <tr>\n",
       "      <th>423752</th>\n",
       "      <td>339C4C55021A83C6</td>\n",
       "      <td>2020-12-30 12:55:08</td>\n",
       "      <td>login</td>\n",
       "      <td>NaN</td>\n",
       "    </tr>\n",
       "    <tr>\n",
       "      <th>423753</th>\n",
       "      <td>33E7BCF696B41C7B</td>\n",
       "      <td>2020-12-30 12:21:24</td>\n",
       "      <td>login</td>\n",
       "      <td>NaN</td>\n",
       "    </tr>\n",
       "    <tr>\n",
       "      <th>423754</th>\n",
       "      <td>D1553B56FFA8974B</td>\n",
       "      <td>2020-12-30 03:15:35</td>\n",
       "      <td>login</td>\n",
       "      <td>NaN</td>\n",
       "    </tr>\n",
       "    <tr>\n",
       "      <th>423755</th>\n",
       "      <td>6181F3835EBE66BF</td>\n",
       "      <td>2020-12-30 12:00:00</td>\n",
       "      <td>login</td>\n",
       "      <td>NaN</td>\n",
       "    </tr>\n",
       "    <tr>\n",
       "      <th>423756</th>\n",
       "      <td>245E85F65C358E08</td>\n",
       "      <td>2020-12-30 19:35:55</td>\n",
       "      <td>login</td>\n",
       "      <td>NaN</td>\n",
       "    </tr>\n",
       "    <tr>\n",
       "      <th>423757</th>\n",
       "      <td>9385A108F5A0A7A7</td>\n",
       "      <td>2020-12-30 10:54:15</td>\n",
       "      <td>login</td>\n",
       "      <td>NaN</td>\n",
       "    </tr>\n",
       "    <tr>\n",
       "      <th>423758</th>\n",
       "      <td>DB650B7559AC6EAC</td>\n",
       "      <td>2020-12-30 10:59:09</td>\n",
       "      <td>login</td>\n",
       "      <td>NaN</td>\n",
       "    </tr>\n",
       "    <tr>\n",
       "      <th>423759</th>\n",
       "      <td>F80C9BDDEA02E53C</td>\n",
       "      <td>2020-12-30 09:53:39</td>\n",
       "      <td>login</td>\n",
       "      <td>NaN</td>\n",
       "    </tr>\n",
       "    <tr>\n",
       "      <th>423760</th>\n",
       "      <td>7AEC61159B672CC5</td>\n",
       "      <td>2020-12-30 11:36:13</td>\n",
       "      <td>login</td>\n",
       "      <td>NaN</td>\n",
       "    </tr>\n",
       "  </tbody>\n",
       "</table>\n",
       "</div>"
      ],
      "text/plain": [
       "                 user_id            event_dt event_name  details\n",
       "423751  1455450835F72F5E 2020-12-30 09:27:10      login      NaN\n",
       "423752  339C4C55021A83C6 2020-12-30 12:55:08      login      NaN\n",
       "423753  33E7BCF696B41C7B 2020-12-30 12:21:24      login      NaN\n",
       "423754  D1553B56FFA8974B 2020-12-30 03:15:35      login      NaN\n",
       "423755  6181F3835EBE66BF 2020-12-30 12:00:00      login      NaN\n",
       "423756  245E85F65C358E08 2020-12-30 19:35:55      login      NaN\n",
       "423757  9385A108F5A0A7A7 2020-12-30 10:54:15      login      NaN\n",
       "423758  DB650B7559AC6EAC 2020-12-30 10:59:09      login      NaN\n",
       "423759  F80C9BDDEA02E53C 2020-12-30 09:53:39      login      NaN\n",
       "423760  7AEC61159B672CC5 2020-12-30 11:36:13      login      NaN"
      ]
     },
     "execution_count": 26,
     "metadata": {},
     "output_type": "execute_result"
    }
   ],
   "source": [
    "# Visualizando os dados\n",
    "df_ab_events.tail(10)"
   ]
  },
  {
   "cell_type": "markdown",
   "metadata": {},
   "source": [
    "# Observações sobre os dados de df_ab_test\n",
    "\n",
    "- Em df_ab_test não foi localizado valores faltantes ou duplicados, além de que os tipos de dados estão corretos para a análise."
   ]
  },
  {
   "cell_type": "code",
   "execution_count": 27,
   "metadata": {
    "scrolled": false
   },
   "outputs": [
    {
     "name": "stdout",
     "output_type": "stream",
     "text": [
      "<class 'pandas.core.frame.DataFrame'>\n",
      "RangeIndex: 14525 entries, 0 to 14524\n",
      "Data columns (total 3 columns):\n",
      " #   Column   Non-Null Count  Dtype \n",
      "---  ------   --------------  ----- \n",
      " 0   user_id  14525 non-null  object\n",
      " 1   group    14525 non-null  object\n",
      " 2   ab_test  14525 non-null  object\n",
      "dtypes: object(3)\n",
      "memory usage: 340.6+ KB\n"
     ]
    }
   ],
   "source": [
    "df_ab_test.info()"
   ]
  },
  {
   "cell_type": "code",
   "execution_count": 28,
   "metadata": {
    "scrolled": true
   },
   "outputs": [
    {
     "data": {
      "text/plain": [
       "user_id    0\n",
       "group      0\n",
       "ab_test    0\n",
       "dtype: int64"
      ]
     },
     "execution_count": 28,
     "metadata": {},
     "output_type": "execute_result"
    }
   ],
   "source": [
    "df_ab_test.isna().sum()"
   ]
  },
  {
   "cell_type": "code",
   "execution_count": 29,
   "metadata": {},
   "outputs": [
    {
     "data": {
      "text/plain": [
       "0"
      ]
     },
     "execution_count": 29,
     "metadata": {},
     "output_type": "execute_result"
    }
   ],
   "source": [
    "df_ab_test.duplicated().sum()"
   ]
  },
  {
   "cell_type": "code",
   "execution_count": 30,
   "metadata": {
    "scrolled": true
   },
   "outputs": [
    {
     "data": {
      "text/html": [
       "<div>\n",
       "<style scoped>\n",
       "    .dataframe tbody tr th:only-of-type {\n",
       "        vertical-align: middle;\n",
       "    }\n",
       "\n",
       "    .dataframe tbody tr th {\n",
       "        vertical-align: top;\n",
       "    }\n",
       "\n",
       "    .dataframe thead th {\n",
       "        text-align: right;\n",
       "    }\n",
       "</style>\n",
       "<table border=\"1\" class=\"dataframe\">\n",
       "  <thead>\n",
       "    <tr style=\"text-align: right;\">\n",
       "      <th></th>\n",
       "      <th>user_id</th>\n",
       "      <th>group</th>\n",
       "      <th>ab_test</th>\n",
       "    </tr>\n",
       "  </thead>\n",
       "  <tbody>\n",
       "    <tr>\n",
       "      <th>0</th>\n",
       "      <td>D1ABA3E2887B6A73</td>\n",
       "      <td>A</td>\n",
       "      <td>recommender_system_test</td>\n",
       "    </tr>\n",
       "    <tr>\n",
       "      <th>1</th>\n",
       "      <td>A7A3664BD6242119</td>\n",
       "      <td>A</td>\n",
       "      <td>recommender_system_test</td>\n",
       "    </tr>\n",
       "    <tr>\n",
       "      <th>2</th>\n",
       "      <td>DABC14FDDFADD29E</td>\n",
       "      <td>A</td>\n",
       "      <td>recommender_system_test</td>\n",
       "    </tr>\n",
       "    <tr>\n",
       "      <th>3</th>\n",
       "      <td>04988C5DF189632E</td>\n",
       "      <td>A</td>\n",
       "      <td>recommender_system_test</td>\n",
       "    </tr>\n",
       "    <tr>\n",
       "      <th>4</th>\n",
       "      <td>4FF2998A348C484F</td>\n",
       "      <td>A</td>\n",
       "      <td>recommender_system_test</td>\n",
       "    </tr>\n",
       "    <tr>\n",
       "      <th>5</th>\n",
       "      <td>7473E0943673C09E</td>\n",
       "      <td>A</td>\n",
       "      <td>recommender_system_test</td>\n",
       "    </tr>\n",
       "    <tr>\n",
       "      <th>6</th>\n",
       "      <td>C46FE336D240A054</td>\n",
       "      <td>A</td>\n",
       "      <td>recommender_system_test</td>\n",
       "    </tr>\n",
       "    <tr>\n",
       "      <th>7</th>\n",
       "      <td>92CB588012C10D3D</td>\n",
       "      <td>A</td>\n",
       "      <td>recommender_system_test</td>\n",
       "    </tr>\n",
       "    <tr>\n",
       "      <th>8</th>\n",
       "      <td>B3A2485649E4A012</td>\n",
       "      <td>A</td>\n",
       "      <td>recommender_system_test</td>\n",
       "    </tr>\n",
       "    <tr>\n",
       "      <th>9</th>\n",
       "      <td>66FC298441D50783</td>\n",
       "      <td>A</td>\n",
       "      <td>recommender_system_test</td>\n",
       "    </tr>\n",
       "  </tbody>\n",
       "</table>\n",
       "</div>"
      ],
      "text/plain": [
       "            user_id group                  ab_test\n",
       "0  D1ABA3E2887B6A73     A  recommender_system_test\n",
       "1  A7A3664BD6242119     A  recommender_system_test\n",
       "2  DABC14FDDFADD29E     A  recommender_system_test\n",
       "3  04988C5DF189632E     A  recommender_system_test\n",
       "4  4FF2998A348C484F     A  recommender_system_test\n",
       "5  7473E0943673C09E     A  recommender_system_test\n",
       "6  C46FE336D240A054     A  recommender_system_test\n",
       "7  92CB588012C10D3D     A  recommender_system_test\n",
       "8  B3A2485649E4A012     A  recommender_system_test\n",
       "9  66FC298441D50783     A  recommender_system_test"
      ]
     },
     "execution_count": 30,
     "metadata": {},
     "output_type": "execute_result"
    }
   ],
   "source": [
    "df_ab_test.head(10)"
   ]
  },
  {
   "cell_type": "markdown",
   "metadata": {},
   "source": [
    "## Análise exploratoria de dados (EDA)\n",
    "\n",
    "Realize a análise exploratória de dados:\n",
    "- Estude a conversão em diferentes etapas do funil.\n",
    "- O número de eventos por usuário é distribuído igualmente entre as amostras?\n",
    "- Os usuários de ambas as amostras estão presentes?\n",
    "- Como o número de eventos é distribuído entre os dias?\n",
    "- Existem quaisquer particularidades nos dados que você deve considerar antes de começar o teste A/B?"
   ]
  },
  {
   "cell_type": "markdown",
   "metadata": {},
   "source": [
    "# Estude a conversão em diferentes etapas do funil"
   ]
  },
  {
   "cell_type": "code",
   "execution_count": 32,
   "metadata": {},
   "outputs": [
    {
     "name": "stdout",
     "output_type": "stream",
     "text": [
      "['purchase' 'product_cart' 'product_page' 'login']\n"
     ]
    }
   ],
   "source": [
    "# Verificando os tipos de eventos únicos presente no dataframe\n",
    "events_unique = df_ab_events['event_name'].unique()\n",
    "#Visualizando os tipos de eventos\n",
    "print(events_unique)"
   ]
  },
  {
   "cell_type": "code",
   "execution_count": 33,
   "metadata": {
    "scrolled": false
   },
   "outputs": [
    {
     "data": {
      "text/html": [
       "<div>\n",
       "<style scoped>\n",
       "    .dataframe tbody tr th:only-of-type {\n",
       "        vertical-align: middle;\n",
       "    }\n",
       "\n",
       "    .dataframe tbody tr th {\n",
       "        vertical-align: top;\n",
       "    }\n",
       "\n",
       "    .dataframe thead th {\n",
       "        text-align: right;\n",
       "    }\n",
       "</style>\n",
       "<table border=\"1\" class=\"dataframe\">\n",
       "  <thead>\n",
       "    <tr style=\"text-align: right;\">\n",
       "      <th></th>\n",
       "      <th>user_id</th>\n",
       "      <th>event_dt</th>\n",
       "      <th>event_name</th>\n",
       "      <th>details</th>\n",
       "    </tr>\n",
       "  </thead>\n",
       "  <tbody>\n",
       "    <tr>\n",
       "      <th>0</th>\n",
       "      <td>E1BDDCE0DAFA2679</td>\n",
       "      <td>2020-12-07 20:22:03</td>\n",
       "      <td>purchase</td>\n",
       "      <td>99.99</td>\n",
       "    </tr>\n",
       "    <tr>\n",
       "      <th>1</th>\n",
       "      <td>7B6452F081F49504</td>\n",
       "      <td>2020-12-07 09:22:53</td>\n",
       "      <td>purchase</td>\n",
       "      <td>9.99</td>\n",
       "    </tr>\n",
       "    <tr>\n",
       "      <th>2</th>\n",
       "      <td>9CD9F34546DF254C</td>\n",
       "      <td>2020-12-07 12:59:29</td>\n",
       "      <td>purchase</td>\n",
       "      <td>4.99</td>\n",
       "    </tr>\n",
       "    <tr>\n",
       "      <th>3</th>\n",
       "      <td>96F27A054B191457</td>\n",
       "      <td>2020-12-07 04:02:40</td>\n",
       "      <td>purchase</td>\n",
       "      <td>4.99</td>\n",
       "    </tr>\n",
       "    <tr>\n",
       "      <th>4</th>\n",
       "      <td>1FD7660FDF94CA1F</td>\n",
       "      <td>2020-12-07 10:15:09</td>\n",
       "      <td>purchase</td>\n",
       "      <td>4.99</td>\n",
       "    </tr>\n",
       "  </tbody>\n",
       "</table>\n",
       "</div>"
      ],
      "text/plain": [
       "            user_id            event_dt event_name  details\n",
       "0  E1BDDCE0DAFA2679 2020-12-07 20:22:03   purchase    99.99\n",
       "1  7B6452F081F49504 2020-12-07 09:22:53   purchase     9.99\n",
       "2  9CD9F34546DF254C 2020-12-07 12:59:29   purchase     4.99\n",
       "3  96F27A054B191457 2020-12-07 04:02:40   purchase     4.99\n",
       "4  1FD7660FDF94CA1F 2020-12-07 10:15:09   purchase     4.99"
      ]
     },
     "execution_count": 33,
     "metadata": {},
     "output_type": "execute_result"
    }
   ],
   "source": [
    "df_ab_events.head()"
   ]
  },
  {
   "cell_type": "code",
   "execution_count": 34,
   "metadata": {},
   "outputs": [
    {
     "data": {
      "text/html": [
       "<div>\n",
       "<style scoped>\n",
       "    .dataframe tbody tr th:only-of-type {\n",
       "        vertical-align: middle;\n",
       "    }\n",
       "\n",
       "    .dataframe tbody tr th {\n",
       "        vertical-align: top;\n",
       "    }\n",
       "\n",
       "    .dataframe thead th {\n",
       "        text-align: right;\n",
       "    }\n",
       "</style>\n",
       "<table border=\"1\" class=\"dataframe\">\n",
       "  <thead>\n",
       "    <tr style=\"text-align: right;\">\n",
       "      <th></th>\n",
       "      <th>user_id</th>\n",
       "      <th>group</th>\n",
       "      <th>ab_test</th>\n",
       "    </tr>\n",
       "  </thead>\n",
       "  <tbody>\n",
       "    <tr>\n",
       "      <th>0</th>\n",
       "      <td>D1ABA3E2887B6A73</td>\n",
       "      <td>A</td>\n",
       "      <td>recommender_system_test</td>\n",
       "    </tr>\n",
       "    <tr>\n",
       "      <th>1</th>\n",
       "      <td>A7A3664BD6242119</td>\n",
       "      <td>A</td>\n",
       "      <td>recommender_system_test</td>\n",
       "    </tr>\n",
       "    <tr>\n",
       "      <th>2</th>\n",
       "      <td>DABC14FDDFADD29E</td>\n",
       "      <td>A</td>\n",
       "      <td>recommender_system_test</td>\n",
       "    </tr>\n",
       "    <tr>\n",
       "      <th>3</th>\n",
       "      <td>04988C5DF189632E</td>\n",
       "      <td>A</td>\n",
       "      <td>recommender_system_test</td>\n",
       "    </tr>\n",
       "    <tr>\n",
       "      <th>4</th>\n",
       "      <td>4FF2998A348C484F</td>\n",
       "      <td>A</td>\n",
       "      <td>recommender_system_test</td>\n",
       "    </tr>\n",
       "  </tbody>\n",
       "</table>\n",
       "</div>"
      ],
      "text/plain": [
       "            user_id group                  ab_test\n",
       "0  D1ABA3E2887B6A73     A  recommender_system_test\n",
       "1  A7A3664BD6242119     A  recommender_system_test\n",
       "2  DABC14FDDFADD29E     A  recommender_system_test\n",
       "3  04988C5DF189632E     A  recommender_system_test\n",
       "4  4FF2998A348C484F     A  recommender_system_test"
      ]
     },
     "execution_count": 34,
     "metadata": {},
     "output_type": "execute_result"
    }
   ],
   "source": [
    "df_ab_test.head()"
   ]
  },
  {
   "cell_type": "code",
   "execution_count": 35,
   "metadata": {},
   "outputs": [
    {
     "name": "stdout",
     "output_type": "stream",
     "text": [
      "Usuários na etapa 'product_page': 38929\n",
      "Usuários na etapa 'product_cart': 19284\n",
      "Usuários na etapa 'purchase': 19568\n"
     ]
    }
   ],
   "source": [
    "# Contando o número de usuários únicos em cada etapa do funil\n",
    "users_product_page = df_ab_events[df_ab_events['event_name'] == 'product_page']['user_id'].nunique()\n",
    "users_product_cart = df_ab_events[df_ab_events['event_name'] == 'product_cart']['user_id'].nunique()\n",
    "users_purchase = df_ab_events[df_ab_events['event_name'] == 'purchase']['user_id'].nunique()\n",
    "# Exibindo os usuários por etapa\n",
    "print(f\"Usuários na etapa 'product_page': {users_product_page}\")\n",
    "print(f\"Usuários na etapa 'product_cart': {users_product_cart}\")\n",
    "print(f\"Usuários na etapa 'purchase': {users_purchase}\")"
   ]
  },
  {
   "cell_type": "code",
   "execution_count": 36,
   "metadata": {
    "scrolled": true
   },
   "outputs": [
    {
     "name": "stdout",
     "output_type": "stream",
     "text": [
      "Conversão de 'product_page' para 'product_cart':\n",
      "group\n",
      "A    47.676651\n",
      "B    51.103864\n",
      "Name: user_id, dtype: float64\n",
      "\n",
      "Conversão de 'product_cart' para 'purchase':\n",
      "group\n",
      "A    108.014499\n",
      "B     98.576338\n",
      "Name: user_id, dtype: float64\n"
     ]
    }
   ],
   "source": [
    "# Filtrando os eventos do funil\n",
    "df_page = df_ab_events[df_ab_events['event_name'] == 'product_page']\n",
    "df_cart = df_ab_events[df_ab_events['event_name'] == 'product_cart']\n",
    "df_purchases = df_ab_events[df_ab_events['event_name'] == 'purchase']\n",
    "\n",
    "# Juntando com os grupos de teste [df_ab_test] para identificar quem é do grupo A e B\n",
    "df_page = df_page.merge(df_ab_test, on='user_id', how='left')\n",
    "df_cart = df_cart.merge(df_ab_test, on='user_id', how='left')\n",
    "df_purchases = df_purchases.merge(df_ab_test, on='user_id', how='left')\n",
    "\n",
    "# Contando os usuários únicos em cada etapa do funil por grupo [A,B]\n",
    "users_page = df_page.groupby('group')['user_id'].nunique()\n",
    "users_cart = df_cart.groupby('group')['user_id'].nunique()\n",
    "users_purchase = df_purchases.groupby('group')['user_id'].nunique()\n",
    "\n",
    "# Calculando as taxas de conversão\n",
    "conversion_page_to_cart = (users_cart / users_page) * 100\n",
    "conversion_cart_to_purchase = (users_purchase / users_cart) * 100\n",
    "\n",
    "# Exibir os resultados\n",
    "print(\"Conversão de 'product_page' para 'product_cart':\")\n",
    "print(conversion_page_to_cart)\n",
    "print(\"\\nConversão de 'product_cart' para 'purchase':\")\n",
    "print(conversion_cart_to_purchase)"
   ]
  },
  {
   "cell_type": "code",
   "execution_count": 37,
   "metadata": {},
   "outputs": [
    {
     "name": "stdout",
     "output_type": "stream",
     "text": [
      "Taxa de conversão de 'product_page' para 'product_cart' - Grupo A: 47.68%\n",
      "Taxa de conversão de 'product_page' para 'product_cart' - Grupo B: 51.10%\n",
      "Taxa de conversão de 'product_cart' para 'purchase' - Grupo A: 108.01%\n",
      "Taxa de conversão de 'product_cart' para 'purchase' - Grupo B: 98.58%\n"
     ]
    }
   ],
   "source": [
    "# Taxas de conversão por grupo em %\n",
    "conv_rate_page_to_cart_A = users_cart['A'] / users_page['A']\n",
    "conv_rate_page_to_cart_B = users_cart['B'] / users_page['B']\n",
    "\n",
    "conv_rate_cart_to_purchase_A = users_purchase['A'] / users_cart['A']\n",
    "conv_rate_cart_to_purchase_B = users_purchase['B'] / users_cart['B']\n",
    "\n",
    "print(f\"Taxa de conversão de 'product_page' para 'product_cart' - Grupo A: {conv_rate_page_to_cart_A:.2%}\")\n",
    "print(f\"Taxa de conversão de 'product_page' para 'product_cart' - Grupo B: {conv_rate_page_to_cart_B:.2%}\")\n",
    "print(f\"Taxa de conversão de 'product_cart' para 'purchase' - Grupo A: {conv_rate_cart_to_purchase_A:.2%}\")\n",
    "print(f\"Taxa de conversão de 'product_cart' para 'purchase' - Grupo B: {conv_rate_cart_to_purchase_B:.2%}\")\n"
   ]
  },
  {
   "cell_type": "code",
   "execution_count": 38,
   "metadata": {
    "scrolled": false
   },
   "outputs": [
    {
     "data": {
      "image/png": "[encoded data removed]",
      "text/plain": [
       "<Figure size 1000x600 with 2 Axes>"
      ]
     },
     "metadata": {},
     "output_type": "display_data"
    }
   ],
   "source": [
    "labels = ['Product Page Views', 'Add to Cart', 'Purchases']\n",
    "group_a = [users_page['A'], users_cart['A'], users_purchase['A']]\n",
    "group_b = [users_page['B'], users_cart['B'], users_purchase['B']]\n",
    "\n",
    "# Config. tamanho do gráfico\n",
    "plt.figure(figsize = (10, 6))\n",
    "\n",
    "# Gráfico para o grupo A\n",
    "plt.subplot(1, 2, 1)\n",
    "plt.barh(labels, group_a, color='skyblue')\n",
    "plt.title(\"Funil de Conversão - Grupo A\")\n",
    "plt.xlabel('Número de Usuários')\n",
    "\n",
    "# Gráfico para o grupo B\n",
    "plt.subplot(1, 2, 2)\n",
    "plt.barh(labels, group_b, color='lightcoral')\n",
    "plt.title(\"Funil de Conversão - Grupo B\")\n",
    "plt.xlabel('Número de Usuários')\n",
    "\n",
    "# Plotando gráfico\n",
    "plt.tight_layout()\n",
    "plt.show()\n"
   ]
  },
  {
   "cell_type": "markdown",
   "metadata": {},
   "source": [
    "Obs:\n",
    "\n",
    "-  A partir da análise do gráfico, observamos que no grupo A (controle), houve um número maior de visualizações de produtos na página em comparação ao grupo B (funil de novos pagamentos). No entanto, no grupo B, foi possível notar uma melhoria nas etapas seguintes do funil, com um aumento no número de usuários que adicionaram produtos ao carrinho e completaram a compra."
   ]
  },
  {
   "cell_type": "markdown",
   "metadata": {},
   "source": [
    "# O número de eventos por usuário é distribuído igualmente entre as amostras?"
   ]
  },
  {
   "cell_type": "code",
   "execution_count": 39,
   "metadata": {
    "scrolled": false
   },
   "outputs": [
    {
     "data": {
      "image/png": "[encoded data removed]",
      "text/plain": [
       "<Figure size 1000x600 with 1 Axes>"
      ]
     },
     "metadata": {},
     "output_type": "display_data"
    }
   ],
   "source": [
    "# O número de eventos por usuário é distribuído igualmente entre as amostras?\n",
    "\n",
    "# Verificando o número de eventos por usuário\n",
    "event_count_per_user = df_ab_events.groupby('user_id')['event_name'].count().reset_index(name='event_count')\n",
    "\n",
    "# Adicionar o grupo (A ou B) ao dataframe de eventos\n",
    "event_count_per_user = event_count_per_user.merge(df_ab_test[['user_id', 'group']], on='user_id', how='left')\n",
    "\n",
    "plt.figure(figsize = (10, 6))\n",
    "sns.boxplot(data = event_count_per_user, x='group', y='event_count')\n",
    "plt.title('Distribuição de Eventos por Grupo')\n",
    "plt.xlabel('Grupo')\n",
    "plt.ylabel('Número de Eventos por Usuário')\n",
    "plt.show()\n"
   ]
  },
  {
   "cell_type": "markdown",
   "metadata": {},
   "source": [
    "Obs:\n",
    "\n",
    "- A maioria dos usuários realiza um número semelhante de eventos em ambos os grupos, como indicado pela proximidade das medianas. No entanto, o grupo B apresenta uma quantidade maior de outliers em comparação ao grupo A, sugerindo que, embora o comportamento típico dos usuários sejam semelhantes entre os grupos, há um número maior de usuários no grupo B que demonstram um nível de engajamento mais alto."
   ]
  },
  {
   "cell_type": "markdown",
   "metadata": {},
   "source": [
    "# Os usuários de ambas as amostras estão presentes?"
   ]
  },
  {
   "cell_type": "code",
   "execution_count": 40,
   "metadata": {},
   "outputs": [
    {
     "name": "stdout",
     "output_type": "stream",
     "text": [
      "Usuários no teste e sem eventos: 0\n"
     ]
    }
   ],
   "source": [
    "# Verificando se todos os usuários de df_ab_test estão presentes em df_ab_events\n",
    "usuarios_no_teste = set(df_ab_test['user_id'])\n",
    "usuarios_nos_eventos = set(df_ab_events['user_id'])\n",
    "\n",
    "# Comparar os usuários presentes em ambos\n",
    "usuarios_faltantes = usuarios_no_teste - usuarios_nos_eventos\n",
    "print(f'Usuários no teste e sem eventos: {len(usuarios_faltantes)}')"
   ]
  },
  {
   "cell_type": "markdown",
   "metadata": {},
   "source": [
    "Obs: \n",
    "\n",
    "- Os usuários de ambas as amostras estão presentes, não foi localizado nenhum usuário ausente nos testes."
   ]
  },
  {
   "cell_type": "markdown",
   "metadata": {},
   "source": [
    "# Como o número de eventos é distribuído entre os dias?"
   ]
  },
  {
   "cell_type": "code",
   "execution_count": 41,
   "metadata": {
    "scrolled": false
   },
   "outputs": [
    {
     "name": "stderr",
     "output_type": "stream",
     "text": [
      "k:\\Anaconda\\Lib\\site-packages\\seaborn\\_oldcore.py:1119: FutureWarning: use_inf_as_na option is deprecated and will be removed in a future version. Convert inf values to NaN before operating instead.\n",
      "  with pd.option_context('mode.use_inf_as_na', True):\n",
      "k:\\Anaconda\\Lib\\site-packages\\seaborn\\_oldcore.py:1119: FutureWarning: use_inf_as_na option is deprecated and will be removed in a future version. Convert inf values to NaN before operating instead.\n",
      "  with pd.option_context('mode.use_inf_as_na', True):\n"
     ]
    },
    {
     "data": {
      "image/png": "[encoded data removed]",
      "text/plain": [
       "<Figure size 1200x600 with 1 Axes>"
      ]
     },
     "metadata": {},
     "output_type": "display_data"
    }
   ],
   "source": [
    "# Convertendo event_dt para formato datetime\n",
    "df_ab_events['event_dt'] = pd.to_datetime(df_ab_events['event_dt'])\n",
    "\n",
    "# Criando uma coluna de data para df_ab_events\n",
    "df_ab_events['event_date'] = df_ab_events['event_dt'].dt.date\n",
    "\n",
    "# Contando os eventos por dia\n",
    "eventos_por_dia = df_ab_events.groupby('event_date').size().reset_index(name='event_count')\n",
    "\n",
    "# Plotando a distribuição de eventos ao longo dos dias\n",
    "plt.figure(figsize=(12, 6))\n",
    "sns.lineplot(data=eventos_por_dia, x='event_date', y='event_count', marker='o')\n",
    "plt.title('Distribuição de Eventos por Dia')\n",
    "plt.xlabel('Data')\n",
    "plt.ylabel('Número de Eventos')\n",
    "plt.xticks(rotation=45)\n",
    "plt.show()"
   ]
  },
  {
   "cell_type": "markdown",
   "metadata": {},
   "source": [
    "Obs:\n",
    "\n",
    "- Podemos observar um aumento significativo no número de acessos nos dias 13/12/2020 e 21/12/2020, o que nos mostra picos de atividade durante esse período, possivelmente devido a promoções ou eventos sazonais entretanto, após o dia 23/12/2020, há uma queda notável nos acessos, sugerindo que a demanda ou o interesse diminuiu após esse pico.\n",
    "\n",
    "- Possivelmente devido ao término das promoções ou à proximidade do período festivo quando os usuários tendem a acessar menos."
   ]
  },
  {
   "cell_type": "markdown",
   "metadata": {},
   "source": [
    "# Existem quaisquer particularidades nos dados que você deve considerar antes de começar o teste A/B?"
   ]
  },
  {
   "cell_type": "code",
   "execution_count": 42,
   "metadata": {},
   "outputs": [
    {
     "name": "stdout",
     "output_type": "stream",
     "text": [
      "Usuários com número de eventos acima de 15.0: 2469\n",
      "             user_id  event_count\n",
      "1   000199F1887AE5E6           16\n",
      "8   000921BDA987CB74           17\n",
      "25  00187B30B10E5180           16\n",
      "40  00299902F77C0C2C           16\n",
      "84  00607344650B2FB0           21\n"
     ]
    }
   ],
   "source": [
    "# Identificando usuários com número de eventos muito alto ou baixo\n",
    "usuarios_eventos = df_ab_events.groupby('user_id').size().reset_index(name='event_count')\n",
    "\n",
    "# Detectando outliers (definir um limiar de eventos muito altos, por exemplo, acima de 95 % de percentil)\n",
    "q95 = usuarios_eventos['event_count'].quantile(0.95)\n",
    "outliers = usuarios_eventos[usuarios_eventos['event_count'] > q95]\n",
    "print(f'Usuários com número de eventos acima de {q95}: {len(outliers)}')\n",
    "\n",
    "# Listar alguns outliers\n",
    "print(outliers.head())\n"
   ]
  },
  {
   "cell_type": "markdown",
   "metadata": {},
   "source": [
    "Obs: \n",
    "\n",
    "- Podemos observar alguns outliers em alguns dos usuários."
   ]
  },
  {
   "cell_type": "markdown",
   "metadata": {},
   "source": [
    "# Avalie os resultados do teste A/B:\n",
    "- O que você pode dizer sobre os resultados do teste A/B?\n",
    "- Use um z-test para verificar a diferença estatística entre as proporções.\n",
    "- Descreva suas conclusões sobre a etapa da EDA e do resultado do teste A/B."
   ]
  },
  {
   "cell_type": "markdown",
   "metadata": {},
   "source": [
    "Obs: \n",
    "\n",
    "- No teste A/B eu pude notar que na etapa(evento) visualização da página do produto para adicionar ao carrinho foi contra o esperado ja que no teste A tivemos uma quantidade maior de usuários em comparação com o grupo B, entretanto pude observar um maior engajamento aos usuários do grupo B comparado ao grupo A."
   ]
  },
  {
   "cell_type": "code",
   "execution_count": 43,
   "metadata": {},
   "outputs": [
    {
     "name": "stdout",
     "output_type": "stream",
     "text": [
      "Etapa 1: Z-stat = -3.2575, P-value = 0.0011\n",
      "Conclusão: Há uma diferença estatisticamente significativa na etapa 1 (p < 0.05).\n",
      "No grupo A, houve um desempenho superior ao grupo B na etapa 1. Isso indica que o sistema de recomendação do grupo B não está funcionando como esperado nessa etapa.\n",
      "Etapa 2: Z-stat = 1.0659, P-value = 0.2865\n",
      "Conclusão: Não há diferença estatisticamente significativa na etapa 2 (p >= 0.05).\n",
      "Isso sugere que o novo sistema de recomendação não teve um impacto mensurável na conversão para a etapa 2.\n"
     ]
    }
   ],
   "source": [
    "# Definindo as contagens de sucesso (usuários que avançaram) e o número total de usuários para cada grupo\n",
    "success_a = [users_cart['A'], users_purchase['A']]  # Número de usuários que avançaram nas etapas no grupo A\n",
    "success_b = [users_cart['B'], users_purchase['B']]  # Número de usuários que avançaram nas etapas no grupo B\n",
    "\n",
    "# Total de usuários que visualizaram o produto em cada etapa do funil no grupo A e B\n",
    "n_a = [users_page['A'], users_page['A']]  # Total de usuários na etapa de visualização de produto no grupo A\n",
    "n_b = [users_page['B'], users_page['B']]  # Total de usuários na etapa de visualização de produto no grupo B\n",
    "\n",
    "# Z-test para verificar a diferença entre os grupos nas etapas product_cart e purchase\n",
    "for i in range(len(success_a)):\n",
    "    # Contagem de sucessos e número de observações (usuários totais) para cada grupo\n",
    "    count = [success_a[i], success_b[i]]  # Sucessos para grupo A e B na etapa i\n",
    "    nobs = [n_a[i], n_b[i]]  # Total de usuários que chegaram à etapa i no grupo A e B\n",
    "    \n",
    "    # Realizando o z-teste para proporções\n",
    "    z_stat, p_value = proportions_ztest(count, nobs)\n",
    "    \n",
    "    # Exibindo os resultados\n",
    "    print(f\"Etapa {i + 1}: Z-stat = {z_stat:.4f}, P-value = {p_value:.4f}\")\n",
    "    \n",
    "    # Verificando se o resultado é estatisticamente significativo\n",
    "    if p_value < 0.05: # nível de significância\n",
    "        print(f\"Conclusão: Há uma diferença estatisticamente significativa na etapa {i + 1} (p < 0.05).\")\n",
    "        # Interpretação adicional para o negócio\n",
    "        if z_stat > 0:\n",
    "            print(f\"No grupo B, houve um desempenho superior ao grupo A na etapa {i + 1}. Isso indica que o novo sistema de recomendação está aumentando as conversões nesta etapa.\")\n",
    "        else:\n",
    "            print(f\"No grupo A, houve um desempenho superior ao grupo B na etapa {i + 1}. Isso indica que o sistema de recomendação do grupo B não está funcionando como esperado nessa etapa.\")\n",
    "    else:\n",
    "        print(f\"Conclusão: Não há diferença estatisticamente significativa na etapa {i + 1} (p >= 0.05).\")\n",
    "        print(f\"Isso sugere que o novo sistema de recomendação não teve um impacto mensurável na conversão para a etapa {i + 1}.\")\n"
   ]
  },
  {
   "cell_type": "markdown",
   "metadata": {},
   "source": [
    "## Conclusão:\n",
    "\n",
    "Obs: Na EDA investigamos a conversão em diferentes etapas do funil para o teste A/B e observei que o número de eventos por usuário e a presença dos usuários estavam bem distribuídos entre os grupos A (controle) e B (teste), também notei que o número de eventos vária de acordo com o dia e isso pode influenciar as taxas de conversão.\n",
    "\n",
    "\n",
    "O teste A/B mostrou que o novo sistema de recomendação fez um ótimo trabalho em fazer com que mais pessoas adicionassem itens ao carrinho, mas não conseguiu aumentar significativamente o número de compras, além disso, vimos que o grupo B teve mais interações, o que sugere que o novo sistema gerou mais interesse, mas isso não se converteu em mais vendas.\n",
    "\n",
    "## Sugestão:\n",
    "\n",
    "Minha sugestão é que talvez seja útil ajustar o sistema de recomendação para tentar melhorar as taxas de conversão final, ou então investigar outros fatores que possam estar afetando a decisão de compra dos usuários."
   ]
  }
 ],
 "metadata": {
  "ExecuteTimeLog": [
   {
    "duration": 349,
    "start_time": "2024-09-11T22:33:06.616Z"
   },
   {
    "duration": 10,
    "start_time": "2024-09-11T22:33:40.856Z"
   },
   {
    "duration": 12,
    "start_time": "2024-09-11T22:33:42.746Z"
   },
   {
    "duration": 7,
    "start_time": "2024-09-11T22:34:29.626Z"
   },
   {
    "duration": 7,
    "start_time": "2024-09-11T22:34:34.215Z"
   },
   {
    "duration": 76,
    "start_time": "2024-09-11T22:35:05.370Z"
   },
   {
    "duration": 10,
    "start_time": "2024-09-11T22:35:11.520Z"
   },
   {
    "duration": 7,
    "start_time": "2024-09-11T22:35:14.433Z"
   },
   {
    "duration": 7,
    "start_time": "2024-09-11T22:35:15.961Z"
   },
   {
    "duration": 372,
    "start_time": "2024-09-11T22:35:45.495Z"
   },
   {
    "duration": 8,
    "start_time": "2024-09-11T22:35:50.738Z"
   },
   {
    "duration": 26,
    "start_time": "2024-09-11T22:36:24.474Z"
   },
   {
    "duration": 9,
    "start_time": "2024-09-11T22:36:27.514Z"
   },
   {
    "duration": 7,
    "start_time": "2024-09-11T22:36:29.890Z"
   },
   {
    "duration": 7,
    "start_time": "2024-09-11T22:41:33.758Z"
   },
   {
    "duration": 7,
    "start_time": "2024-09-11T22:41:38.142Z"
   },
   {
    "duration": 8,
    "start_time": "2024-09-11T22:43:46.512Z"
   },
   {
    "duration": 89,
    "start_time": "2024-09-11T22:43:51.832Z"
   },
   {
    "duration": 3,
    "start_time": "2024-09-11T22:43:55.416Z"
   },
   {
    "duration": 7,
    "start_time": "2024-09-11T22:43:59.224Z"
   },
   {
    "duration": 6,
    "start_time": "2024-09-11T22:44:02.967Z"
   },
   {
    "duration": 8,
    "start_time": "2024-09-11T22:44:11.073Z"
   },
   {
    "duration": 2,
    "start_time": "2024-09-11T22:49:09.317Z"
   },
   {
    "duration": 7,
    "start_time": "2024-09-11T22:50:34.552Z"
   },
   {
    "duration": 4,
    "start_time": "2024-09-11T22:50:36.728Z"
   },
   {
    "duration": 4,
    "start_time": "2024-09-11T22:52:38.783Z"
   },
   {
    "duration": 4,
    "start_time": "2024-09-11T22:52:57.866Z"
   },
   {
    "duration": 9,
    "start_time": "2024-09-11T22:53:02.249Z"
   },
   {
    "duration": 7,
    "start_time": "2024-09-11T22:53:12.876Z"
   },
   {
    "duration": 264,
    "start_time": "2024-09-11T22:53:53.587Z"
   },
   {
    "duration": 7,
    "start_time": "2024-09-11T22:53:53.853Z"
   },
   {
    "duration": 42,
    "start_time": "2024-09-11T22:53:53.861Z"
   },
   {
    "duration": 283,
    "start_time": "2024-09-11T22:53:53.905Z"
   },
   {
    "duration": 13,
    "start_time": "2024-09-11T22:53:54.189Z"
   },
   {
    "duration": 15,
    "start_time": "2024-09-11T22:53:54.204Z"
   },
   {
    "duration": 7,
    "start_time": "2024-09-11T22:53:54.220Z"
   },
   {
    "duration": 7,
    "start_time": "2024-09-11T22:53:54.228Z"
   },
   {
    "duration": 7,
    "start_time": "2024-09-11T22:53:54.237Z"
   },
   {
    "duration": 7,
    "start_time": "2024-09-11T22:53:54.247Z"
   },
   {
    "duration": 4,
    "start_time": "2024-09-11T22:53:54.256Z"
   },
   {
    "duration": 3,
    "start_time": "2024-09-11T22:53:54.262Z"
   },
   {
    "duration": 48,
    "start_time": "2024-09-11T22:53:54.266Z"
   },
   {
    "duration": 2,
    "start_time": "2024-09-11T22:54:35.832Z"
   },
   {
    "duration": 85,
    "start_time": "2024-09-11T22:56:09.574Z"
   },
   {
    "duration": 3,
    "start_time": "2024-09-11T22:57:07.118Z"
   },
   {
    "duration": 4,
    "start_time": "2024-09-11T22:57:15.899Z"
   },
   {
    "duration": 8,
    "start_time": "2024-09-11T22:57:26.403Z"
   },
   {
    "duration": 8,
    "start_time": "2024-09-11T22:57:41.711Z"
   },
   {
    "duration": 14,
    "start_time": "2024-09-11T22:57:58.213Z"
   },
   {
    "duration": 7,
    "start_time": "2024-09-11T23:04:39.362Z"
   },
   {
    "duration": 9,
    "start_time": "2024-09-11T23:04:45.097Z"
   },
   {
    "duration": 8,
    "start_time": "2024-09-11T23:05:06.281Z"
   },
   {
    "duration": 7,
    "start_time": "2024-09-11T23:05:11.627Z"
   },
   {
    "duration": 10,
    "start_time": "2024-09-11T23:07:25.461Z"
   },
   {
    "duration": 13,
    "start_time": "2024-09-11T23:07:29.340Z"
   },
   {
    "duration": 5,
    "start_time": "2024-09-11T23:09:50.696Z"
   },
   {
    "duration": 8,
    "start_time": "2024-09-11T23:09:51.644Z"
   },
   {
    "duration": 5,
    "start_time": "2024-09-11T23:11:22.031Z"
   },
   {
    "duration": 13,
    "start_time": "2024-09-11T23:11:34.034Z"
   },
   {
    "duration": 8,
    "start_time": "2024-09-11T23:11:57.676Z"
   },
   {
    "duration": 7,
    "start_time": "2024-09-11T23:12:00.743Z"
   },
   {
    "duration": 307,
    "start_time": "2024-09-11T23:12:17.847Z"
   },
   {
    "duration": 6,
    "start_time": "2024-09-11T23:12:18.156Z"
   },
   {
    "duration": 38,
    "start_time": "2024-09-11T23:12:18.164Z"
   },
   {
    "duration": 289,
    "start_time": "2024-09-11T23:12:18.205Z"
   },
   {
    "duration": 17,
    "start_time": "2024-09-11T23:12:18.495Z"
   },
   {
    "duration": 11,
    "start_time": "2024-09-11T23:12:18.514Z"
   },
   {
    "duration": 6,
    "start_time": "2024-09-11T23:12:18.527Z"
   },
   {
    "duration": 6,
    "start_time": "2024-09-11T23:12:18.535Z"
   },
   {
    "duration": 6,
    "start_time": "2024-09-11T23:12:18.543Z"
   },
   {
    "duration": 8,
    "start_time": "2024-09-11T23:12:18.552Z"
   },
   {
    "duration": 3,
    "start_time": "2024-09-11T23:12:18.562Z"
   },
   {
    "duration": 4,
    "start_time": "2024-09-11T23:12:18.567Z"
   },
   {
    "duration": 41,
    "start_time": "2024-09-11T23:12:18.572Z"
   },
   {
    "duration": 12,
    "start_time": "2024-09-11T23:12:18.615Z"
   },
   {
    "duration": 7,
    "start_time": "2024-09-11T23:12:18.630Z"
   },
   {
    "duration": 5,
    "start_time": "2024-09-11T23:12:18.639Z"
   },
   {
    "duration": 7,
    "start_time": "2024-09-11T23:12:18.645Z"
   },
   {
    "duration": 44,
    "start_time": "2024-09-11T23:12:31.184Z"
   },
   {
    "duration": 62,
    "start_time": "2024-09-11T23:13:03.889Z"
   },
   {
    "duration": 193,
    "start_time": "2024-09-11T23:13:06.986Z"
   },
   {
    "duration": 8,
    "start_time": "2024-09-11T23:13:10.385Z"
   },
   {
    "duration": 9,
    "start_time": "2024-09-11T23:13:19.986Z"
   },
   {
    "duration": 11,
    "start_time": "2024-09-11T23:13:24.345Z"
   },
   {
    "duration": 8,
    "start_time": "2024-09-11T23:13:34.237Z"
   },
   {
    "duration": 8,
    "start_time": "2024-09-11T23:13:55.426Z"
   },
   {
    "duration": 10,
    "start_time": "2024-09-11T23:13:59.570Z"
   },
   {
    "duration": 8,
    "start_time": "2024-09-11T23:14:21.040Z"
   },
   {
    "duration": 6,
    "start_time": "2024-09-11T23:14:53.811Z"
   },
   {
    "duration": 10,
    "start_time": "2024-09-11T23:15:07.454Z"
   },
   {
    "duration": 30,
    "start_time": "2024-09-11T23:15:17.860Z"
   },
   {
    "duration": 28,
    "start_time": "2024-09-11T23:15:27.675Z"
   },
   {
    "duration": 33,
    "start_time": "2024-09-11T23:15:42.078Z"
   },
   {
    "duration": 125,
    "start_time": "2024-09-11T23:17:16.021Z"
   },
   {
    "duration": 5,
    "start_time": "2024-09-11T23:17:40.347Z"
   },
   {
    "duration": 22,
    "start_time": "2024-09-11T23:17:59.402Z"
   },
   {
    "duration": 325,
    "start_time": "2024-09-11T23:18:55.036Z"
   },
   {
    "duration": 6,
    "start_time": "2024-09-11T23:18:55.364Z"
   },
   {
    "duration": 46,
    "start_time": "2024-09-11T23:18:55.372Z"
   },
   {
    "duration": 278,
    "start_time": "2024-09-11T23:18:55.419Z"
   },
   {
    "duration": 19,
    "start_time": "2024-09-11T23:18:55.700Z"
   },
   {
    "duration": 12,
    "start_time": "2024-09-11T23:18:55.722Z"
   },
   {
    "duration": 7,
    "start_time": "2024-09-11T23:18:55.736Z"
   },
   {
    "duration": 8,
    "start_time": "2024-09-11T23:18:55.744Z"
   },
   {
    "duration": 6,
    "start_time": "2024-09-11T23:18:55.754Z"
   },
   {
    "duration": 8,
    "start_time": "2024-09-11T23:18:55.762Z"
   },
   {
    "duration": 40,
    "start_time": "2024-09-11T23:18:55.772Z"
   },
   {
    "duration": 4,
    "start_time": "2024-09-11T23:18:55.814Z"
   },
   {
    "duration": 3,
    "start_time": "2024-09-11T23:18:55.820Z"
   },
   {
    "duration": 3,
    "start_time": "2024-09-11T23:18:55.825Z"
   },
   {
    "duration": 8,
    "start_time": "2024-09-11T23:18:55.830Z"
   },
   {
    "duration": 14,
    "start_time": "2024-09-11T23:18:55.840Z"
   },
   {
    "duration": 23,
    "start_time": "2024-09-11T23:18:55.855Z"
   },
   {
    "duration": 10,
    "start_time": "2024-09-11T23:18:55.911Z"
   },
   {
    "duration": 8,
    "start_time": "2024-09-11T23:18:55.923Z"
   },
   {
    "duration": 4,
    "start_time": "2024-09-11T23:18:55.933Z"
   },
   {
    "duration": 7,
    "start_time": "2024-09-11T23:18:55.939Z"
   },
   {
    "duration": 66,
    "start_time": "2024-09-11T23:18:55.948Z"
   },
   {
    "duration": 159,
    "start_time": "2024-09-11T23:18:56.016Z"
   },
   {
    "duration": 43,
    "start_time": "2024-09-11T23:18:56.176Z"
   },
   {
    "duration": 59,
    "start_time": "2024-09-11T23:18:56.221Z"
   },
   {
    "duration": 8,
    "start_time": "2024-09-11T23:18:56.282Z"
   },
   {
    "duration": 10,
    "start_time": "2024-09-11T23:19:20.670Z"
   },
   {
    "duration": 7,
    "start_time": "2024-09-11T23:20:44.908Z"
   },
   {
    "duration": 6,
    "start_time": "2024-09-11T23:20:48.263Z"
   },
   {
    "duration": 7,
    "start_time": "2024-09-11T23:21:01.122Z"
   },
   {
    "duration": 7,
    "start_time": "2024-09-11T23:21:05.143Z"
   },
   {
    "duration": 6,
    "start_time": "2024-09-11T23:21:27.355Z"
   },
   {
    "duration": 9,
    "start_time": "2024-09-11T23:21:36.482Z"
   },
   {
    "duration": 297,
    "start_time": "2024-09-12T17:07:13.959Z"
   },
   {
    "duration": 9,
    "start_time": "2024-09-12T17:07:14.258Z"
   },
   {
    "duration": 73,
    "start_time": "2024-09-12T17:07:14.268Z"
   },
   {
    "duration": 337,
    "start_time": "2024-09-12T17:07:14.343Z"
   },
   {
    "duration": 31,
    "start_time": "2024-09-12T17:07:14.682Z"
   },
   {
    "duration": 14,
    "start_time": "2024-09-12T17:07:14.717Z"
   },
   {
    "duration": 6,
    "start_time": "2024-09-12T17:07:14.733Z"
   },
   {
    "duration": 7,
    "start_time": "2024-09-12T17:07:14.741Z"
   },
   {
    "duration": 7,
    "start_time": "2024-09-12T17:07:14.749Z"
   },
   {
    "duration": 7,
    "start_time": "2024-09-12T17:07:14.759Z"
   },
   {
    "duration": 5,
    "start_time": "2024-09-12T17:07:14.768Z"
   },
   {
    "duration": 40,
    "start_time": "2024-09-12T17:07:14.774Z"
   },
   {
    "duration": 5,
    "start_time": "2024-09-12T17:07:14.816Z"
   },
   {
    "duration": 4,
    "start_time": "2024-09-12T17:07:14.822Z"
   },
   {
    "duration": 8,
    "start_time": "2024-09-12T17:07:14.827Z"
   },
   {
    "duration": 13,
    "start_time": "2024-09-12T17:07:14.837Z"
   },
   {
    "duration": 22,
    "start_time": "2024-09-12T17:07:14.853Z"
   },
   {
    "duration": 37,
    "start_time": "2024-09-12T17:07:14.877Z"
   },
   {
    "duration": 11,
    "start_time": "2024-09-12T17:07:14.916Z"
   },
   {
    "duration": 4,
    "start_time": "2024-09-12T17:07:14.928Z"
   },
   {
    "duration": 7,
    "start_time": "2024-09-12T17:07:14.934Z"
   },
   {
    "duration": 41,
    "start_time": "2024-09-12T17:07:14.942Z"
   },
   {
    "duration": 184,
    "start_time": "2024-09-12T17:07:14.985Z"
   },
   {
    "duration": 50,
    "start_time": "2024-09-12T17:07:15.171Z"
   },
   {
    "duration": 58,
    "start_time": "2024-09-12T17:07:15.222Z"
   },
   {
    "duration": 8,
    "start_time": "2024-09-12T17:07:15.282Z"
   },
   {
    "duration": 26,
    "start_time": "2024-09-12T17:07:15.292Z"
   },
   {
    "duration": 5,
    "start_time": "2024-09-12T17:07:15.322Z"
   },
   {
    "duration": 8,
    "start_time": "2024-09-12T17:07:15.329Z"
   },
   {
    "duration": 7,
    "start_time": "2024-09-12T17:07:15.339Z"
   },
   {
    "duration": 8,
    "start_time": "2024-09-12T17:27:22.688Z"
   },
   {
    "duration": 8,
    "start_time": "2024-09-12T17:27:51.135Z"
   },
   {
    "duration": 181,
    "start_time": "2024-09-12T17:28:21.682Z"
   },
   {
    "duration": 21,
    "start_time": "2024-09-12T17:28:56.834Z"
   },
   {
    "duration": 4,
    "start_time": "2024-09-12T17:29:05.381Z"
   },
   {
    "duration": 6,
    "start_time": "2024-09-12T17:29:11.249Z"
   },
   {
    "duration": 5,
    "start_time": "2024-09-12T17:29:16.653Z"
   },
   {
    "duration": 4,
    "start_time": "2024-09-12T17:29:23.108Z"
   },
   {
    "duration": 6,
    "start_time": "2024-09-12T17:29:23.424Z"
   },
   {
    "duration": 9,
    "start_time": "2024-09-12T17:29:26.332Z"
   },
   {
    "duration": 3,
    "start_time": "2024-09-12T17:29:27.705Z"
   },
   {
    "duration": 4,
    "start_time": "2024-09-12T17:29:27.904Z"
   },
   {
    "duration": 5,
    "start_time": "2024-09-12T17:29:38.001Z"
   },
   {
    "duration": 11,
    "start_time": "2024-09-12T17:29:45.734Z"
   },
   {
    "duration": 3,
    "start_time": "2024-09-12T17:44:05.934Z"
   },
   {
    "duration": 9,
    "start_time": "2024-09-12T17:44:06.293Z"
   },
   {
    "duration": 5,
    "start_time": "2024-09-12T17:44:13.798Z"
   },
   {
    "duration": 285,
    "start_time": "2024-09-12T17:44:41.369Z"
   },
   {
    "duration": 7,
    "start_time": "2024-09-12T17:44:41.657Z"
   },
   {
    "duration": 39,
    "start_time": "2024-09-12T17:44:41.665Z"
   },
   {
    "duration": 305,
    "start_time": "2024-09-12T17:44:41.706Z"
   },
   {
    "duration": 12,
    "start_time": "2024-09-12T17:44:42.013Z"
   },
   {
    "duration": 11,
    "start_time": "2024-09-12T17:44:42.027Z"
   },
   {
    "duration": 7,
    "start_time": "2024-09-12T17:44:42.040Z"
   },
   {
    "duration": 7,
    "start_time": "2024-09-12T17:44:42.048Z"
   },
   {
    "duration": 6,
    "start_time": "2024-09-12T17:44:42.057Z"
   },
   {
    "duration": 7,
    "start_time": "2024-09-12T17:44:42.066Z"
   },
   {
    "duration": 39,
    "start_time": "2024-09-12T17:44:42.075Z"
   },
   {
    "duration": 5,
    "start_time": "2024-09-12T17:44:42.117Z"
   },
   {
    "duration": 4,
    "start_time": "2024-09-12T17:44:42.124Z"
   },
   {
    "duration": 3,
    "start_time": "2024-09-12T17:44:42.129Z"
   },
   {
    "duration": 7,
    "start_time": "2024-09-12T17:44:42.134Z"
   },
   {
    "duration": 13,
    "start_time": "2024-09-12T17:44:42.143Z"
   },
   {
    "duration": 56,
    "start_time": "2024-09-12T17:44:42.157Z"
   },
   {
    "duration": 11,
    "start_time": "2024-09-12T17:44:42.215Z"
   },
   {
    "duration": 8,
    "start_time": "2024-09-12T17:44:42.228Z"
   },
   {
    "duration": 4,
    "start_time": "2024-09-12T17:44:42.239Z"
   },
   {
    "duration": 6,
    "start_time": "2024-09-12T17:44:42.244Z"
   },
   {
    "duration": 67,
    "start_time": "2024-09-12T17:44:42.252Z"
   },
   {
    "duration": 157,
    "start_time": "2024-09-12T17:44:42.321Z"
   },
   {
    "duration": 45,
    "start_time": "2024-09-12T17:44:42.480Z"
   },
   {
    "duration": 61,
    "start_time": "2024-09-12T17:44:42.527Z"
   },
   {
    "duration": 8,
    "start_time": "2024-09-12T17:44:42.589Z"
   },
   {
    "duration": 9,
    "start_time": "2024-09-12T17:44:42.612Z"
   },
   {
    "duration": 6,
    "start_time": "2024-09-12T17:44:42.624Z"
   },
   {
    "duration": 7,
    "start_time": "2024-09-12T17:44:42.632Z"
   },
   {
    "duration": 6,
    "start_time": "2024-09-12T17:44:42.641Z"
   },
   {
    "duration": 12,
    "start_time": "2024-09-12T17:48:28.101Z"
   },
   {
    "duration": 7,
    "start_time": "2024-09-12T17:48:33.980Z"
   },
   {
    "duration": 22,
    "start_time": "2024-09-12T17:48:53.404Z"
   },
   {
    "duration": 25,
    "start_time": "2024-09-12T17:49:01.842Z"
   },
   {
    "duration": 22,
    "start_time": "2024-09-12T17:49:33.070Z"
   },
   {
    "duration": 2,
    "start_time": "2024-09-12T17:50:41.524Z"
   },
   {
    "duration": 174,
    "start_time": "2024-09-12T17:50:58.392Z"
   },
   {
    "duration": 2,
    "start_time": "2024-09-12T17:51:12.049Z"
   },
   {
    "duration": 2,
    "start_time": "2024-09-12T17:51:19.981Z"
   },
   {
    "duration": 2,
    "start_time": "2024-09-12T17:51:21.824Z"
   },
   {
    "duration": 4,
    "start_time": "2024-09-12T17:51:29.124Z"
   },
   {
    "duration": 14,
    "start_time": "2024-09-12T17:52:19.038Z"
   },
   {
    "duration": 65,
    "start_time": "2024-09-12T17:52:32.964Z"
   },
   {
    "duration": 12,
    "start_time": "2024-09-12T17:53:41.758Z"
   },
   {
    "duration": 22,
    "start_time": "2024-09-12T17:54:44.005Z"
   },
   {
    "duration": 22,
    "start_time": "2024-09-12T17:54:53.408Z"
   },
   {
    "duration": 21,
    "start_time": "2024-09-12T17:57:46.915Z"
   },
   {
    "duration": 35,
    "start_time": "2024-09-12T17:58:51.771Z"
   },
   {
    "duration": 81,
    "start_time": "2024-09-12T17:59:49.388Z"
   },
   {
    "duration": 7,
    "start_time": "2024-09-12T18:00:47.197Z"
   },
   {
    "duration": 3,
    "start_time": "2024-09-12T18:00:59.673Z"
   },
   {
    "duration": 84,
    "start_time": "2024-09-12T18:01:45.214Z"
   },
   {
    "duration": 92,
    "start_time": "2024-09-12T18:02:11.782Z"
   },
   {
    "duration": 83,
    "start_time": "2024-09-12T18:02:42.714Z"
   },
   {
    "duration": 22,
    "start_time": "2024-09-12T18:05:06.706Z"
   },
   {
    "duration": 83,
    "start_time": "2024-09-12T18:05:07.080Z"
   },
   {
    "duration": 5,
    "start_time": "2024-09-12T18:15:02.442Z"
   },
   {
    "duration": 3,
    "start_time": "2024-09-12T18:15:14.809Z"
   },
   {
    "duration": 3,
    "start_time": "2024-09-12T18:15:59.722Z"
   },
   {
    "duration": 4,
    "start_time": "2024-09-12T18:18:27.589Z"
   },
   {
    "duration": 4,
    "start_time": "2024-09-12T18:18:53.820Z"
   },
   {
    "duration": 5,
    "start_time": "2024-09-12T18:19:03.429Z"
   },
   {
    "duration": 4,
    "start_time": "2024-09-12T18:19:11.503Z"
   },
   {
    "duration": 4,
    "start_time": "2024-09-12T18:19:38.702Z"
   },
   {
    "duration": 4,
    "start_time": "2024-09-12T18:19:49.896Z"
   },
   {
    "duration": 58,
    "start_time": "2024-09-12T18:22:49.518Z"
   },
   {
    "duration": 58,
    "start_time": "2024-09-12T18:24:02.755Z"
   },
   {
    "duration": 4,
    "start_time": "2024-09-12T18:28:53.861Z"
   },
   {
    "duration": 118,
    "start_time": "2024-09-12T18:30:02.850Z"
   },
   {
    "duration": 7,
    "start_time": "2024-09-12T18:31:19.504Z"
   },
   {
    "duration": 5,
    "start_time": "2024-09-12T18:31:22.847Z"
   },
   {
    "duration": 84,
    "start_time": "2024-09-12T18:32:03.346Z"
   },
   {
    "duration": 2,
    "start_time": "2024-09-12T18:35:01.938Z"
   },
   {
    "duration": 8,
    "start_time": "2024-09-12T18:39:57.339Z"
   },
   {
    "duration": 378,
    "start_time": "2024-09-16T23:03:53.391Z"
   },
   {
    "duration": 9,
    "start_time": "2024-09-16T23:03:53.771Z"
   },
   {
    "duration": 77,
    "start_time": "2024-09-16T23:03:53.781Z"
   },
   {
    "duration": 387,
    "start_time": "2024-09-16T23:03:53.860Z"
   },
   {
    "duration": 34,
    "start_time": "2024-09-16T23:03:54.250Z"
   },
   {
    "duration": 15,
    "start_time": "2024-09-16T23:03:54.286Z"
   },
   {
    "duration": 8,
    "start_time": "2024-09-16T23:03:54.303Z"
   },
   {
    "duration": 8,
    "start_time": "2024-09-16T23:03:54.313Z"
   },
   {
    "duration": 6,
    "start_time": "2024-09-16T23:03:54.323Z"
   },
   {
    "duration": 10,
    "start_time": "2024-09-16T23:03:54.331Z"
   },
   {
    "duration": 4,
    "start_time": "2024-09-16T23:03:54.343Z"
   },
   {
    "duration": 41,
    "start_time": "2024-09-16T23:03:54.349Z"
   },
   {
    "duration": 3,
    "start_time": "2024-09-16T23:03:54.392Z"
   },
   {
    "duration": 3,
    "start_time": "2024-09-16T23:03:54.399Z"
   },
   {
    "duration": 9,
    "start_time": "2024-09-16T23:03:54.404Z"
   },
   {
    "duration": 16,
    "start_time": "2024-09-16T23:03:54.415Z"
   },
   {
    "duration": 59,
    "start_time": "2024-09-16T23:03:54.433Z"
   },
   {
    "duration": 12,
    "start_time": "2024-09-16T23:03:54.494Z"
   },
   {
    "duration": 11,
    "start_time": "2024-09-16T23:03:54.508Z"
   },
   {
    "duration": 5,
    "start_time": "2024-09-16T23:03:54.521Z"
   },
   {
    "duration": 8,
    "start_time": "2024-09-16T23:03:54.528Z"
   },
   {
    "duration": 85,
    "start_time": "2024-09-16T23:03:54.539Z"
   },
   {
    "duration": 169,
    "start_time": "2024-09-16T23:03:54.626Z"
   },
   {
    "duration": 39,
    "start_time": "2024-09-16T23:03:54.796Z"
   },
   {
    "duration": 99,
    "start_time": "2024-09-16T23:03:54.836Z"
   },
   {
    "duration": 9,
    "start_time": "2024-09-16T23:03:54.937Z"
   },
   {
    "duration": 9,
    "start_time": "2024-09-16T23:03:54.948Z"
   },
   {
    "duration": 29,
    "start_time": "2024-09-16T23:03:54.959Z"
   },
   {
    "duration": 8,
    "start_time": "2024-09-16T23:03:54.989Z"
   },
   {
    "duration": 8,
    "start_time": "2024-09-16T23:03:54.999Z"
   },
   {
    "duration": 9,
    "start_time": "2024-09-16T23:03:55.009Z"
   },
   {
    "duration": 31,
    "start_time": "2024-09-16T23:03:55.019Z"
   },
   {
    "duration": 117,
    "start_time": "2024-09-16T23:03:55.052Z"
   },
   {
    "duration": 3,
    "start_time": "2024-09-16T23:03:55.173Z"
   },
   {
    "duration": 126,
    "start_time": "2024-09-16T23:03:55.187Z"
   },
   {
    "duration": 3,
    "start_time": "2024-09-16T23:03:55.316Z"
   },
   {
    "duration": 82,
    "start_time": "2024-09-16T23:07:19.910Z"
   },
   {
    "duration": 84,
    "start_time": "2024-09-16T23:07:59.036Z"
   },
   {
    "duration": 225,
    "start_time": "2024-09-16T23:10:52.409Z"
   },
   {
    "duration": 13,
    "start_time": "2024-09-16T23:12:11.940Z"
   },
   {
    "duration": 8,
    "start_time": "2024-09-16T23:15:48.933Z"
   },
   {
    "duration": 5,
    "start_time": "2024-09-16T23:16:30.767Z"
   },
   {
    "duration": 6,
    "start_time": "2024-09-16T23:16:42.092Z"
   },
   {
    "duration": 12,
    "start_time": "2024-09-16T23:18:00.578Z"
   },
   {
    "duration": 23,
    "start_time": "2024-09-16T23:19:36.081Z"
   },
   {
    "duration": 23,
    "start_time": "2024-09-16T23:20:17.704Z"
   },
   {
    "duration": 17,
    "start_time": "2024-09-16T23:20:39.605Z"
   },
   {
    "duration": 37,
    "start_time": "2024-09-16T23:20:56.132Z"
   },
   {
    "duration": 36,
    "start_time": "2024-09-16T23:21:09.706Z"
   },
   {
    "duration": 20,
    "start_time": "2024-09-16T23:22:41.556Z"
   },
   {
    "duration": 23,
    "start_time": "2024-09-16T23:23:15.265Z"
   },
   {
    "duration": 17,
    "start_time": "2024-09-16T23:23:28.443Z"
   },
   {
    "duration": 34,
    "start_time": "2024-09-16T23:23:28.714Z"
   },
   {
    "duration": 23,
    "start_time": "2024-09-16T23:23:28.943Z"
   },
   {
    "duration": 37,
    "start_time": "2024-09-16T23:24:42.053Z"
   },
   {
    "duration": 24,
    "start_time": "2024-09-16T23:24:42.608Z"
   },
   {
    "duration": 58,
    "start_time": "2024-09-16T23:25:02.201Z"
   },
   {
    "duration": 33,
    "start_time": "2024-09-16T23:25:03.211Z"
   },
   {
    "duration": 30,
    "start_time": "2024-09-16T23:25:10.757Z"
   },
   {
    "duration": 26,
    "start_time": "2024-09-16T23:25:14.241Z"
   },
   {
    "duration": 26,
    "start_time": "2024-09-16T23:25:16.717Z"
   },
   {
    "duration": 27,
    "start_time": "2024-09-16T23:25:23.254Z"
   },
   {
    "duration": 28,
    "start_time": "2024-09-16T23:25:25.444Z"
   },
   {
    "duration": 26,
    "start_time": "2024-09-16T23:25:29.790Z"
   },
   {
    "duration": 24,
    "start_time": "2024-09-16T23:25:36.074Z"
   },
   {
    "duration": 5,
    "start_time": "2024-09-16T23:26:09.133Z"
   },
   {
    "duration": 24,
    "start_time": "2024-09-16T23:28:11.405Z"
   },
   {
    "duration": 36,
    "start_time": "2024-09-16T23:28:34.475Z"
   },
   {
    "duration": 283,
    "start_time": "2024-09-16T23:28:50.870Z"
   },
   {
    "duration": 8,
    "start_time": "2024-09-16T23:28:51.155Z"
   },
   {
    "duration": 48,
    "start_time": "2024-09-16T23:28:51.164Z"
   },
   {
    "duration": 300,
    "start_time": "2024-09-16T23:28:51.214Z"
   },
   {
    "duration": 13,
    "start_time": "2024-09-16T23:28:51.516Z"
   },
   {
    "duration": 12,
    "start_time": "2024-09-16T23:28:51.531Z"
   },
   {
    "duration": 7,
    "start_time": "2024-09-16T23:28:51.545Z"
   },
   {
    "duration": 8,
    "start_time": "2024-09-16T23:28:51.554Z"
   },
   {
    "duration": 28,
    "start_time": "2024-09-16T23:28:51.564Z"
   },
   {
    "duration": 10,
    "start_time": "2024-09-16T23:28:51.596Z"
   },
   {
    "duration": 5,
    "start_time": "2024-09-16T23:28:51.607Z"
   },
   {
    "duration": 5,
    "start_time": "2024-09-16T23:28:51.614Z"
   },
   {
    "duration": 4,
    "start_time": "2024-09-16T23:28:51.621Z"
   },
   {
    "duration": 3,
    "start_time": "2024-09-16T23:28:51.627Z"
   },
   {
    "duration": 8,
    "start_time": "2024-09-16T23:28:51.632Z"
   },
   {
    "duration": 51,
    "start_time": "2024-09-16T23:28:51.642Z"
   },
   {
    "duration": 26,
    "start_time": "2024-09-16T23:28:51.695Z"
   },
   {
    "duration": 13,
    "start_time": "2024-09-16T23:28:51.723Z"
   },
   {
    "duration": 8,
    "start_time": "2024-09-16T23:28:51.739Z"
   },
   {
    "duration": 4,
    "start_time": "2024-09-16T23:28:51.749Z"
   },
   {
    "duration": 37,
    "start_time": "2024-09-16T23:28:51.755Z"
   },
   {
    "duration": 41,
    "start_time": "2024-09-16T23:28:51.794Z"
   },
   {
    "duration": 203,
    "start_time": "2024-09-16T23:28:51.837Z"
   },
   {
    "duration": 50,
    "start_time": "2024-09-16T23:28:52.042Z"
   },
   {
    "duration": 61,
    "start_time": "2024-09-16T23:28:52.094Z"
   },
   {
    "duration": 7,
    "start_time": "2024-09-16T23:28:52.157Z"
   },
   {
    "duration": 25,
    "start_time": "2024-09-16T23:28:52.166Z"
   },
   {
    "duration": 7,
    "start_time": "2024-09-16T23:28:52.197Z"
   },
   {
    "duration": 10,
    "start_time": "2024-09-16T23:28:52.206Z"
   },
   {
    "duration": 9,
    "start_time": "2024-09-16T23:28:52.217Z"
   },
   {
    "duration": 9,
    "start_time": "2024-09-16T23:28:52.228Z"
   },
   {
    "duration": 49,
    "start_time": "2024-09-16T23:28:52.238Z"
   },
   {
    "duration": 103,
    "start_time": "2024-09-16T23:28:52.289Z"
   },
   {
    "duration": 3,
    "start_time": "2024-09-16T23:28:52.394Z"
   },
   {
    "duration": 140,
    "start_time": "2024-09-16T23:28:52.400Z"
   },
   {
    "duration": 19,
    "start_time": "2024-09-16T23:28:52.542Z"
   },
   {
    "duration": 43,
    "start_time": "2024-09-16T23:28:52.565Z"
   },
   {
    "duration": 24,
    "start_time": "2024-09-16T23:28:52.610Z"
   },
   {
    "duration": 6,
    "start_time": "2024-09-16T23:28:52.635Z"
   },
   {
    "duration": 2,
    "start_time": "2024-09-16T23:28:52.643Z"
   },
   {
    "duration": 8,
    "start_time": "2024-09-16T23:28:52.646Z"
   },
   {
    "duration": 98,
    "start_time": "2024-09-16T23:34:12.618Z"
   },
   {
    "duration": 485,
    "start_time": "2024-09-16T23:34:39.523Z"
   },
   {
    "duration": 245,
    "start_time": "2024-09-16T23:34:51.101Z"
   },
   {
    "duration": 247,
    "start_time": "2024-09-16T23:35:06.615Z"
   },
   {
    "duration": 238,
    "start_time": "2024-09-16T23:35:15.101Z"
   },
   {
    "duration": 36,
    "start_time": "2024-09-16T23:35:31.837Z"
   },
   {
    "duration": 312,
    "start_time": "2024-09-16T23:35:47.414Z"
   },
   {
    "duration": 4,
    "start_time": "2024-09-16T23:36:03.382Z"
   },
   {
    "duration": 93,
    "start_time": "2024-09-16T23:36:25.092Z"
   },
   {
    "duration": 238,
    "start_time": "2024-09-16T23:37:49.857Z"
   },
   {
    "duration": 242,
    "start_time": "2024-09-16T23:37:54.806Z"
   },
   {
    "duration": 12,
    "start_time": "2024-09-16T23:41:40.638Z"
   },
   {
    "duration": 19,
    "start_time": "2024-09-16T23:45:00.865Z"
   },
   {
    "duration": 39,
    "start_time": "2024-09-16T23:47:32.993Z"
   },
   {
    "duration": 33,
    "start_time": "2024-09-16T23:47:48.727Z"
   },
   {
    "duration": 261,
    "start_time": "2024-09-16T23:48:18.999Z"
   },
   {
    "duration": 271,
    "start_time": "2024-09-16T23:49:32.370Z"
   },
   {
    "duration": 3,
    "start_time": "2024-09-16T23:52:00.652Z"
   },
   {
    "duration": 2,
    "start_time": "2024-09-16T23:52:15.210Z"
   },
   {
    "duration": 3,
    "start_time": "2024-09-16T23:54:16.395Z"
   },
   {
    "duration": 3,
    "start_time": "2024-09-16T23:54:28.772Z"
   },
   {
    "duration": 175,
    "start_time": "2024-09-17T00:00:19.033Z"
   },
   {
    "duration": 8,
    "start_time": "2024-09-17T00:01:38.083Z"
   },
   {
    "duration": 8,
    "start_time": "2024-09-17T00:01:43.829Z"
   },
   {
    "duration": 8,
    "start_time": "2024-09-17T00:01:47.738Z"
   },
   {
    "duration": 2,
    "start_time": "2024-09-17T00:05:03.687Z"
   },
   {
    "duration": 153,
    "start_time": "2024-09-17T00:07:08.255Z"
   },
   {
    "duration": 153,
    "start_time": "2024-09-17T00:07:16.711Z"
   },
   {
    "duration": 157,
    "start_time": "2024-09-17T00:07:32.478Z"
   },
   {
    "duration": 85,
    "start_time": "2024-09-17T00:09:08.519Z"
   },
   {
    "duration": 162,
    "start_time": "2024-09-17T00:10:37.626Z"
   },
   {
    "duration": 155,
    "start_time": "2024-09-17T00:12:00.161Z"
   },
   {
    "duration": 155,
    "start_time": "2024-09-17T00:12:51.019Z"
   },
   {
    "duration": 427,
    "start_time": "2024-09-17T00:15:20.188Z"
   },
   {
    "duration": 160,
    "start_time": "2024-09-17T00:15:41.646Z"
   },
   {
    "duration": 159,
    "start_time": "2024-09-17T00:15:52.069Z"
   },
   {
    "duration": 801,
    "start_time": "2024-09-17T00:19:40.108Z"
   },
   {
    "duration": 12,
    "start_time": "2024-09-17T00:19:40.911Z"
   },
   {
    "duration": 40,
    "start_time": "2024-09-17T00:19:40.924Z"
   },
   {
    "duration": 350,
    "start_time": "2024-09-17T00:19:40.965Z"
   },
   {
    "duration": 12,
    "start_time": "2024-09-17T00:19:41.318Z"
   },
   {
    "duration": 10,
    "start_time": "2024-09-17T00:19:41.332Z"
   },
   {
    "duration": 8,
    "start_time": "2024-09-17T00:19:41.344Z"
   },
   {
    "duration": 7,
    "start_time": "2024-09-17T00:19:41.354Z"
   },
   {
    "duration": 7,
    "start_time": "2024-09-17T00:19:41.363Z"
   },
   {
    "duration": 43,
    "start_time": "2024-09-17T00:19:41.373Z"
   },
   {
    "duration": 4,
    "start_time": "2024-09-17T00:19:41.418Z"
   },
   {
    "duration": 6,
    "start_time": "2024-09-17T00:19:41.423Z"
   },
   {
    "duration": 5,
    "start_time": "2024-09-17T00:19:41.430Z"
   },
   {
    "duration": 3,
    "start_time": "2024-09-17T00:19:41.439Z"
   },
   {
    "duration": 7,
    "start_time": "2024-09-17T00:19:41.444Z"
   },
   {
    "duration": 14,
    "start_time": "2024-09-17T00:19:41.453Z"
   },
   {
    "duration": 64,
    "start_time": "2024-09-17T00:19:41.469Z"
   },
   {
    "duration": 10,
    "start_time": "2024-09-17T00:19:41.535Z"
   },
   {
    "duration": 7,
    "start_time": "2024-09-17T00:19:41.547Z"
   },
   {
    "duration": 5,
    "start_time": "2024-09-17T00:19:41.556Z"
   },
   {
    "duration": 14,
    "start_time": "2024-09-17T00:19:41.564Z"
   },
   {
    "duration": 65,
    "start_time": "2024-09-17T00:19:41.579Z"
   },
   {
    "duration": 199,
    "start_time": "2024-09-17T00:19:41.645Z"
   },
   {
    "duration": 38,
    "start_time": "2024-09-17T00:19:41.846Z"
   },
   {
    "duration": 79,
    "start_time": "2024-09-17T00:19:41.885Z"
   },
   {
    "duration": 7,
    "start_time": "2024-09-17T00:19:41.966Z"
   },
   {
    "duration": 30,
    "start_time": "2024-09-17T00:19:41.975Z"
   },
   {
    "duration": 8,
    "start_time": "2024-09-17T00:19:42.008Z"
   },
   {
    "duration": 8,
    "start_time": "2024-09-17T00:19:42.018Z"
   },
   {
    "duration": 6,
    "start_time": "2024-09-17T00:19:42.028Z"
   },
   {
    "duration": 2,
    "start_time": "2024-09-17T00:19:42.036Z"
   },
   {
    "duration": 20,
    "start_time": "2024-09-17T00:19:42.039Z"
   },
   {
    "duration": 8,
    "start_time": "2024-09-17T00:19:42.062Z"
   },
   {
    "duration": 40,
    "start_time": "2024-09-17T00:19:42.071Z"
   },
   {
    "duration": 105,
    "start_time": "2024-09-17T00:19:42.113Z"
   },
   {
    "duration": 159,
    "start_time": "2024-09-17T00:19:42.219Z"
   },
   {
    "duration": 3,
    "start_time": "2024-09-17T00:19:42.380Z"
   },
   {
    "duration": 344,
    "start_time": "2024-09-17T00:19:42.384Z"
   },
   {
    "duration": 2,
    "start_time": "2024-09-17T00:19:42.730Z"
   },
   {
    "duration": 35,
    "start_time": "2024-09-17T00:19:42.734Z"
   },
   {
    "duration": 2,
    "start_time": "2024-09-17T00:19:42.773Z"
   },
   {
    "duration": 372,
    "start_time": "2024-09-17T00:19:42.777Z"
   },
   {
    "duration": 11,
    "start_time": "2024-09-17T00:19:43.151Z"
   },
   {
    "duration": 111,
    "start_time": "2024-09-17T00:19:43.165Z"
   },
   {
    "duration": 234,
    "start_time": "2024-09-17T00:21:52.628Z"
   },
   {
    "duration": 271,
    "start_time": "2024-09-17T00:22:28.595Z"
   },
   {
    "duration": 806,
    "start_time": "2024-09-17T00:23:20.896Z"
   },
   {
    "duration": 224,
    "start_time": "2024-09-17T00:23:24.036Z"
   },
   {
    "duration": 466,
    "start_time": "2024-09-17T00:23:56.402Z"
   },
   {
    "duration": 324,
    "start_time": "2024-09-17T00:25:50.494Z"
   },
   {
    "duration": 543,
    "start_time": "2024-09-17T00:26:29.639Z"
   },
   {
    "duration": 298,
    "start_time": "2024-09-17T00:26:35.695Z"
   },
   {
    "duration": 71,
    "start_time": "2024-09-17T00:31:41.092Z"
   },
   {
    "duration": 177,
    "start_time": "2024-09-17T00:31:41.778Z"
   },
   {
    "duration": 493,
    "start_time": "2024-09-17T00:32:31.394Z"
   },
   {
    "duration": 100,
    "start_time": "2024-09-17T00:32:56.180Z"
   },
   {
    "duration": 631,
    "start_time": "2024-09-17T00:33:26.101Z"
   },
   {
    "duration": 608,
    "start_time": "2024-09-17T00:33:30.124Z"
   },
   {
    "duration": 26,
    "start_time": "2024-09-17T00:33:41.870Z"
   },
   {
    "duration": 847,
    "start_time": "2024-09-17T00:35:56.997Z"
   },
   {
    "duration": 11,
    "start_time": "2024-09-17T00:35:57.847Z"
   },
   {
    "duration": 43,
    "start_time": "2024-09-17T00:35:57.866Z"
   },
   {
    "duration": 332,
    "start_time": "2024-09-17T00:35:57.911Z"
   },
   {
    "duration": 14,
    "start_time": "2024-09-17T00:35:58.246Z"
   },
   {
    "duration": 10,
    "start_time": "2024-09-17T00:35:58.262Z"
   },
   {
    "duration": 18,
    "start_time": "2024-09-17T00:35:58.274Z"
   },
   {
    "duration": 8,
    "start_time": "2024-09-17T00:35:58.294Z"
   },
   {
    "duration": 6,
    "start_time": "2024-09-17T00:35:58.304Z"
   },
   {
    "duration": 9,
    "start_time": "2024-09-17T00:35:58.312Z"
   },
   {
    "duration": 5,
    "start_time": "2024-09-17T00:35:58.323Z"
   },
   {
    "duration": 5,
    "start_time": "2024-09-17T00:35:58.330Z"
   },
   {
    "duration": 3,
    "start_time": "2024-09-17T00:35:58.337Z"
   },
   {
    "duration": 42,
    "start_time": "2024-09-17T00:35:58.345Z"
   },
   {
    "duration": 9,
    "start_time": "2024-09-17T00:35:58.390Z"
   },
   {
    "duration": 14,
    "start_time": "2024-09-17T00:35:58.401Z"
   },
   {
    "duration": 26,
    "start_time": "2024-09-17T00:35:58.417Z"
   },
   {
    "duration": 43,
    "start_time": "2024-09-17T00:35:58.445Z"
   },
   {
    "duration": 12,
    "start_time": "2024-09-17T00:35:58.490Z"
   },
   {
    "duration": 6,
    "start_time": "2024-09-17T00:35:58.504Z"
   },
   {
    "duration": 8,
    "start_time": "2024-09-17T00:35:58.512Z"
   },
   {
    "duration": 76,
    "start_time": "2024-09-17T00:35:58.522Z"
   },
   {
    "duration": 194,
    "start_time": "2024-09-17T00:35:58.601Z"
   },
   {
    "duration": 43,
    "start_time": "2024-09-17T00:35:58.797Z"
   },
   {
    "duration": 73,
    "start_time": "2024-09-17T00:35:58.842Z"
   },
   {
    "duration": 7,
    "start_time": "2024-09-17T00:35:58.917Z"
   },
   {
    "duration": 8,
    "start_time": "2024-09-17T00:35:58.926Z"
   },
   {
    "duration": 7,
    "start_time": "2024-09-17T00:35:58.936Z"
   },
   {
    "duration": 7,
    "start_time": "2024-09-17T00:35:58.945Z"
   },
   {
    "duration": 39,
    "start_time": "2024-09-17T00:35:58.954Z"
   },
   {
    "duration": 2,
    "start_time": "2024-09-17T00:35:58.995Z"
   },
   {
    "duration": 31,
    "start_time": "2024-09-17T00:35:58.999Z"
   },
   {
    "duration": 10,
    "start_time": "2024-09-17T00:35:59.032Z"
   },
   {
    "duration": 7,
    "start_time": "2024-09-17T00:35:59.044Z"
   },
   {
    "duration": 112,
    "start_time": "2024-09-17T00:35:59.053Z"
   },
   {
    "duration": 171,
    "start_time": "2024-09-17T00:35:59.167Z"
   },
   {
    "duration": 282,
    "start_time": "2024-09-17T00:35:59.340Z"
   },
   {
    "duration": 4,
    "start_time": "2024-09-17T00:35:59.625Z"
   },
   {
    "duration": 281,
    "start_time": "2024-09-17T00:35:59.632Z"
   },
   {
    "duration": 2,
    "start_time": "2024-09-17T00:35:59.915Z"
   },
   {
    "duration": 33,
    "start_time": "2024-09-17T00:35:59.923Z"
   },
   {
    "duration": 3,
    "start_time": "2024-09-17T00:35:59.958Z"
   },
   {
    "duration": 373,
    "start_time": "2024-09-17T00:35:59.963Z"
   },
   {
    "duration": 3,
    "start_time": "2024-09-17T00:36:00.338Z"
   },
   {
    "duration": 101,
    "start_time": "2024-09-17T00:36:00.343Z"
   },
   {
    "duration": 634,
    "start_time": "2024-09-17T00:36:00.446Z"
   },
   {
    "duration": 113,
    "start_time": "2024-09-17T00:36:01.086Z"
   },
   {
    "duration": 11,
    "start_time": "2024-09-17T00:40:42.080Z"
   },
   {
    "duration": 3,
    "start_time": "2024-09-17T00:40:58.576Z"
   },
   {
    "duration": 6,
    "start_time": "2024-09-17T00:41:02.068Z"
   },
   {
    "duration": 3,
    "start_time": "2024-09-17T00:42:38.729Z"
   },
   {
    "duration": 6,
    "start_time": "2024-09-17T00:42:47.275Z"
   },
   {
    "duration": 274,
    "start_time": "2024-09-17T00:48:44.311Z"
   },
   {
    "duration": 3,
    "start_time": "2024-09-17T00:49:01.580Z"
   },
   {
    "duration": 4,
    "start_time": "2024-09-17T00:49:22.413Z"
   },
   {
    "duration": 4,
    "start_time": "2024-09-17T00:50:02.408Z"
   },
   {
    "duration": 3,
    "start_time": "2024-09-17T00:50:27.776Z"
   },
   {
    "duration": 18,
    "start_time": "2024-09-17T00:50:49.264Z"
   },
   {
    "duration": 8,
    "start_time": "2024-09-17T00:51:20.407Z"
   },
   {
    "duration": 302,
    "start_time": "2024-09-17T00:55:45.208Z"
   },
   {
    "duration": 946,
    "start_time": "2024-09-17T00:56:24.460Z"
   },
   {
    "duration": 7,
    "start_time": "2024-09-17T00:56:25.425Z"
   },
   {
    "duration": 43,
    "start_time": "2024-09-17T00:56:25.434Z"
   },
   {
    "duration": 441,
    "start_time": "2024-09-17T00:56:25.479Z"
   },
   {
    "duration": 25,
    "start_time": "2024-09-17T00:56:25.921Z"
   },
   {
    "duration": 10,
    "start_time": "2024-09-17T00:56:25.948Z"
   },
   {
    "duration": 7,
    "start_time": "2024-09-17T00:56:25.960Z"
   },
   {
    "duration": 13,
    "start_time": "2024-09-17T00:56:25.968Z"
   },
   {
    "duration": 32,
    "start_time": "2024-09-17T00:56:25.983Z"
   },
   {
    "duration": 15,
    "start_time": "2024-09-17T00:56:26.019Z"
   },
   {
    "duration": 6,
    "start_time": "2024-09-17T00:56:26.036Z"
   },
   {
    "duration": 5,
    "start_time": "2024-09-17T00:56:26.045Z"
   },
   {
    "duration": 4,
    "start_time": "2024-09-17T00:56:26.052Z"
   },
   {
    "duration": 3,
    "start_time": "2024-09-17T00:56:26.062Z"
   },
   {
    "duration": 10,
    "start_time": "2024-09-17T00:56:26.068Z"
   },
   {
    "duration": 17,
    "start_time": "2024-09-17T00:56:26.080Z"
   },
   {
    "duration": 27,
    "start_time": "2024-09-17T00:56:26.099Z"
   },
   {
    "duration": 11,
    "start_time": "2024-09-17T00:56:26.128Z"
   },
   {
    "duration": 9,
    "start_time": "2024-09-17T00:56:26.142Z"
   },
   {
    "duration": 5,
    "start_time": "2024-09-17T00:56:26.152Z"
   },
   {
    "duration": 42,
    "start_time": "2024-09-17T00:56:26.159Z"
   },
   {
    "duration": 52,
    "start_time": "2024-09-17T00:56:26.203Z"
   },
   {
    "duration": 203,
    "start_time": "2024-09-17T00:56:26.257Z"
   },
   {
    "duration": 65,
    "start_time": "2024-09-17T00:56:26.462Z"
   },
   {
    "duration": 90,
    "start_time": "2024-09-17T00:56:26.529Z"
   },
   {
    "duration": 10,
    "start_time": "2024-09-17T00:56:26.621Z"
   },
   {
    "duration": 12,
    "start_time": "2024-09-17T00:56:26.633Z"
   },
   {
    "duration": 11,
    "start_time": "2024-09-17T00:56:26.651Z"
   },
   {
    "duration": 9,
    "start_time": "2024-09-17T00:56:26.663Z"
   },
   {
    "duration": 34,
    "start_time": "2024-09-17T00:56:26.674Z"
   },
   {
    "duration": 5,
    "start_time": "2024-09-17T00:56:26.713Z"
   },
   {
    "duration": 22,
    "start_time": "2024-09-17T00:56:26.721Z"
   },
   {
    "duration": 8,
    "start_time": "2024-09-17T00:56:26.745Z"
   },
   {
    "duration": 8,
    "start_time": "2024-09-17T00:56:26.755Z"
   },
   {
    "duration": 106,
    "start_time": "2024-09-17T00:56:26.765Z"
   },
   {
    "duration": 197,
    "start_time": "2024-09-17T00:56:26.873Z"
   },
   {
    "duration": 3,
    "start_time": "2024-09-17T00:56:27.074Z"
   },
   {
    "duration": 282,
    "start_time": "2024-09-17T00:56:27.079Z"
   },
   {
    "duration": 3,
    "start_time": "2024-09-17T00:56:27.363Z"
   },
   {
    "duration": 310,
    "start_time": "2024-09-17T00:56:27.368Z"
   },
   {
    "duration": 3,
    "start_time": "2024-09-17T00:56:27.679Z"
   },
   {
    "duration": 63,
    "start_time": "2024-09-17T00:56:27.684Z"
   },
   {
    "duration": 4,
    "start_time": "2024-09-17T00:56:27.755Z"
   },
   {
    "duration": 384,
    "start_time": "2024-09-17T00:56:27.761Z"
   },
   {
    "duration": 3,
    "start_time": "2024-09-17T00:56:28.148Z"
   },
   {
    "duration": 108,
    "start_time": "2024-09-17T00:56:28.153Z"
   },
   {
    "duration": 688,
    "start_time": "2024-09-17T00:56:28.265Z"
   },
   {
    "duration": 115,
    "start_time": "2024-09-17T00:56:28.955Z"
   },
   {
    "duration": 9,
    "start_time": "2024-09-17T00:56:29.072Z"
   },
   {
    "duration": 3,
    "start_time": "2024-09-17T00:56:40.134Z"
   },
   {
    "duration": 5,
    "start_time": "2024-09-17T01:00:39.953Z"
   },
   {
    "duration": 5,
    "start_time": "2024-09-17T01:02:42.052Z"
   },
   {
    "duration": 258,
    "start_time": "2024-09-17T01:13:55.408Z"
   },
   {
    "duration": 2,
    "start_time": "2024-09-17T01:25:02.921Z"
   },
   {
    "duration": 110,
    "start_time": "2024-09-17T01:30:53.625Z"
   },
   {
    "duration": 18,
    "start_time": "2024-09-17T02:05:28.495Z"
   },
   {
    "duration": 5,
    "start_time": "2024-09-17T02:05:46.271Z"
   },
   {
    "duration": 16,
    "start_time": "2024-09-17T02:08:38.983Z"
   },
   {
    "duration": 7,
    "start_time": "2024-09-17T11:48:51.911Z"
   },
   {
    "duration": 2860,
    "start_time": "2024-09-17T11:57:05.737Z"
   },
   {
    "duration": 11,
    "start_time": "2024-09-17T11:57:08.612Z"
   },
   {
    "duration": 86,
    "start_time": "2024-09-17T11:57:08.625Z"
   },
   {
    "duration": 356,
    "start_time": "2024-09-17T11:57:08.712Z"
   },
   {
    "duration": 53,
    "start_time": "2024-09-17T11:57:09.070Z"
   },
   {
    "duration": 9,
    "start_time": "2024-09-17T11:57:09.125Z"
   },
   {
    "duration": 6,
    "start_time": "2024-09-17T11:57:09.136Z"
   },
   {
    "duration": 6,
    "start_time": "2024-09-17T11:57:09.144Z"
   },
   {
    "duration": 6,
    "start_time": "2024-09-17T11:57:09.152Z"
   },
   {
    "duration": 9,
    "start_time": "2024-09-17T11:57:09.159Z"
   },
   {
    "duration": 5,
    "start_time": "2024-09-17T11:57:09.169Z"
   },
   {
    "duration": 33,
    "start_time": "2024-09-17T11:57:09.175Z"
   },
   {
    "duration": 5,
    "start_time": "2024-09-17T11:57:09.210Z"
   },
   {
    "duration": 3,
    "start_time": "2024-09-17T11:57:09.219Z"
   },
   {
    "duration": 8,
    "start_time": "2024-09-17T11:57:09.223Z"
   },
   {
    "duration": 14,
    "start_time": "2024-09-17T11:57:09.232Z"
   },
   {
    "duration": 25,
    "start_time": "2024-09-17T11:57:09.247Z"
   },
   {
    "duration": 20,
    "start_time": "2024-09-17T11:57:09.298Z"
   },
   {
    "duration": 8,
    "start_time": "2024-09-17T11:57:09.320Z"
   },
   {
    "duration": 4,
    "start_time": "2024-09-17T11:57:09.330Z"
   },
   {
    "duration": 7,
    "start_time": "2024-09-17T11:57:09.335Z"
   },
   {
    "duration": 72,
    "start_time": "2024-09-17T11:57:09.343Z"
   },
   {
    "duration": 181,
    "start_time": "2024-09-17T11:57:09.417Z"
   },
   {
    "duration": 47,
    "start_time": "2024-09-17T11:57:09.600Z"
   },
   {
    "duration": 67,
    "start_time": "2024-09-17T11:57:09.648Z"
   },
   {
    "duration": 12,
    "start_time": "2024-09-17T11:57:09.717Z"
   },
   {
    "duration": 8,
    "start_time": "2024-09-17T11:57:09.731Z"
   },
   {
    "duration": 6,
    "start_time": "2024-09-17T11:57:09.741Z"
   },
   {
    "duration": 7,
    "start_time": "2024-09-17T11:57:09.749Z"
   },
   {
    "duration": 40,
    "start_time": "2024-09-17T11:57:09.757Z"
   },
   {
    "duration": 2,
    "start_time": "2024-09-17T11:57:09.811Z"
   },
   {
    "duration": 20,
    "start_time": "2024-09-17T11:57:09.815Z"
   },
   {
    "duration": 7,
    "start_time": "2024-09-17T11:57:09.837Z"
   },
   {
    "duration": 5,
    "start_time": "2024-09-17T11:57:09.847Z"
   },
   {
    "duration": 113,
    "start_time": "2024-09-17T11:57:09.854Z"
   },
   {
    "duration": 188,
    "start_time": "2024-09-17T11:57:09.970Z"
   },
   {
    "duration": 4,
    "start_time": "2024-09-17T11:57:10.160Z"
   },
   {
    "duration": 306,
    "start_time": "2024-09-17T11:57:10.166Z"
   },
   {
    "duration": 2,
    "start_time": "2024-09-17T11:57:10.473Z"
   },
   {
    "duration": 286,
    "start_time": "2024-09-17T11:57:10.477Z"
   },
   {
    "duration": 2,
    "start_time": "2024-09-17T11:57:10.768Z"
   },
   {
    "duration": 60,
    "start_time": "2024-09-17T11:57:10.771Z"
   },
   {
    "duration": 2,
    "start_time": "2024-09-17T11:57:10.833Z"
   },
   {
    "duration": 372,
    "start_time": "2024-09-17T11:57:10.837Z"
   },
   {
    "duration": 5,
    "start_time": "2024-09-17T11:57:11.211Z"
   },
   {
    "duration": 107,
    "start_time": "2024-09-17T11:57:11.218Z"
   },
   {
    "duration": 6,
    "start_time": "2024-09-17T11:57:11.327Z"
   },
   {
    "duration": 3,
    "start_time": "2024-09-17T11:57:19.746Z"
   },
   {
    "duration": 3,
    "start_time": "2024-09-17T11:57:23.349Z"
   },
   {
    "duration": 3,
    "start_time": "2024-09-17T11:59:15.807Z"
   },
   {
    "duration": 3,
    "start_time": "2024-09-17T11:59:20.352Z"
   },
   {
    "duration": 4,
    "start_time": "2024-09-17T11:59:23.778Z"
   },
   {
    "duration": 6,
    "start_time": "2024-09-17T11:59:35.603Z"
   },
   {
    "duration": 2592,
    "start_time": "2024-09-18T18:30:37.284Z"
   },
   {
    "duration": 10,
    "start_time": "2024-09-18T18:30:39.879Z"
   },
   {
    "duration": 66,
    "start_time": "2024-09-18T18:30:39.892Z"
   },
   {
    "duration": 337,
    "start_time": "2024-09-18T18:30:39.960Z"
   },
   {
    "duration": 24,
    "start_time": "2024-09-18T18:30:40.299Z"
   },
   {
    "duration": 10,
    "start_time": "2024-09-18T18:30:40.325Z"
   },
   {
    "duration": 6,
    "start_time": "2024-09-18T18:30:40.337Z"
   },
   {
    "duration": 7,
    "start_time": "2024-09-18T18:30:40.345Z"
   },
   {
    "duration": 6,
    "start_time": "2024-09-18T18:30:40.354Z"
   },
   {
    "duration": 9,
    "start_time": "2024-09-18T18:30:40.386Z"
   },
   {
    "duration": 4,
    "start_time": "2024-09-18T18:30:40.397Z"
   },
   {
    "duration": 5,
    "start_time": "2024-09-18T18:30:40.403Z"
   },
   {
    "duration": 3,
    "start_time": "2024-09-18T18:30:40.409Z"
   },
   {
    "duration": 4,
    "start_time": "2024-09-18T18:30:40.414Z"
   },
   {
    "duration": 8,
    "start_time": "2024-09-18T18:30:40.419Z"
   },
   {
    "duration": 13,
    "start_time": "2024-09-18T18:30:40.428Z"
   },
   {
    "duration": 63,
    "start_time": "2024-09-18T18:30:40.443Z"
   },
   {
    "duration": 12,
    "start_time": "2024-09-18T18:30:40.508Z"
   },
   {
    "duration": 10,
    "start_time": "2024-09-18T18:30:40.522Z"
   },
   {
    "duration": 6,
    "start_time": "2024-09-18T18:30:40.534Z"
   },
   {
    "duration": 7,
    "start_time": "2024-09-18T18:30:40.542Z"
   },
   {
    "duration": 70,
    "start_time": "2024-09-18T18:30:40.552Z"
   },
   {
    "duration": 175,
    "start_time": "2024-09-18T18:30:40.623Z"
   },
   {
    "duration": 39,
    "start_time": "2024-09-18T18:30:40.800Z"
   },
   {
    "duration": 71,
    "start_time": "2024-09-18T18:30:40.841Z"
   },
   {
    "duration": 8,
    "start_time": "2024-09-18T18:30:40.913Z"
   },
   {
    "duration": 8,
    "start_time": "2024-09-18T18:30:40.923Z"
   },
   {
    "duration": 5,
    "start_time": "2024-09-18T18:30:40.935Z"
   },
   {
    "duration": 7,
    "start_time": "2024-09-18T18:30:40.942Z"
   },
   {
    "duration": 36,
    "start_time": "2024-09-18T18:30:40.951Z"
   },
   {
    "duration": 2,
    "start_time": "2024-09-18T18:30:40.989Z"
   },
   {
    "duration": 20,
    "start_time": "2024-09-18T18:30:40.993Z"
   },
   {
    "duration": 7,
    "start_time": "2024-09-18T18:30:41.015Z"
   },
   {
    "duration": 6,
    "start_time": "2024-09-18T18:30:41.023Z"
   },
   {
    "duration": 114,
    "start_time": "2024-09-18T18:30:41.031Z"
   },
   {
    "duration": 152,
    "start_time": "2024-09-18T18:30:41.147Z"
   },
   {
    "duration": 4,
    "start_time": "2024-09-18T18:30:41.301Z"
   },
   {
    "duration": 268,
    "start_time": "2024-09-18T18:30:41.306Z"
   },
   {
    "duration": 11,
    "start_time": "2024-09-18T18:30:41.577Z"
   },
   {
    "duration": 265,
    "start_time": "2024-09-18T18:30:41.590Z"
   },
   {
    "duration": 3,
    "start_time": "2024-09-18T18:30:41.856Z"
   },
   {
    "duration": 44,
    "start_time": "2024-09-18T18:30:41.861Z"
   },
   {
    "duration": 2,
    "start_time": "2024-09-18T18:30:41.907Z"
   },
   {
    "duration": 270,
    "start_time": "2024-09-18T18:30:41.911Z"
   },
   {
    "duration": 2,
    "start_time": "2024-09-18T18:30:42.187Z"
   },
   {
    "duration": 97,
    "start_time": "2024-09-18T18:30:42.191Z"
   },
   {
    "duration": 5,
    "start_time": "2024-09-18T18:30:42.290Z"
   },
   {
    "duration": 6,
    "start_time": "2024-09-18T18:46:42.433Z"
   },
   {
    "duration": 6,
    "start_time": "2024-09-18T18:47:11.884Z"
   },
   {
    "duration": 7,
    "start_time": "2024-09-18T18:47:31.459Z"
   },
   {
    "duration": 6,
    "start_time": "2024-09-18T18:47:37.117Z"
   },
   {
    "duration": 6,
    "start_time": "2024-09-18T18:48:06.313Z"
   },
   {
    "duration": 6,
    "start_time": "2024-09-18T18:50:38.427Z"
   }
  ],
  "kernelspec": {
   "display_name": "base",
   "language": "python",
   "name": "python3"
  },
  "language_info": {
   "codemirror_mode": {
    "name": "ipython",
    "version": 3
   },
   "file_extension": ".py",
   "mimetype": "text/x-python",
   "name": "python",
   "nbconvert_exporter": "python",
   "pygments_lexer": "ipython3",
   "version": "3.11.10"
  },
  "toc": {
   "base_numbering": 1,
   "nav_menu": {},
   "number_sections": true,
   "sideBar": true,
   "skip_h1_title": true,
   "title_cell": "Table of Contents",
   "title_sidebar": "Contents",
   "toc_cell": false,
   "toc_position": {},
   "toc_section_display": true,
   "toc_window_display": false
  }
 },
 "nbformat": 4,
 "nbformat_minor": 2
}
