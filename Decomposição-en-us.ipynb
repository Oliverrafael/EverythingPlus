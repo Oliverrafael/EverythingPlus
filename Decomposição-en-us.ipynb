{
 "cells": [
  {
   "cell_type": "markdown",
   "metadata": {},
   "source": [
    "# Decomposition\n",
    "\n",
    "## Introduction\n",
    "Provide a brief description of the project and its objectives."
   ]
  },
  {
   "cell_type": "markdown",
   "metadata": {},
   "source": [
    "## Defining a Work Plan\n",
    "First, I will start with a business understanding, where I will conduct research on the area or the company and identify the problem it is facing. Next, I will move on to data understanding, beginning with an initial data cleaning process, using functions that help me visualize the data, identify missing values, duplicates, and the types of data I will be working with."
   ]
  },
  {
   "cell_type": "markdown",
   "metadata": {},
   "source": [
    "## Importing Libraries and Data\n",
    "The next step is to import the libraries that I will use to carry out this project, as well as the data that will be used for cleaning, EDA, insights, hypothesis testing, and conclusions related to the data."
   ]
  },
  {
   "cell_type": "markdown",
   "metadata": {},
   "source": [
    "## Step-by-Step\n",
    "Step 1: Define the problem\n",
    "\n",
    "Step 2: Collect the data\n",
    "\n",
    "Step 3: Data pre-processing: Clean and prepare the data to ensure data quality\n",
    "\n",
    "Step 4: EDA (Exploratory Data Analysis)\n",
    "\n",
    "Step 5: Perform descriptive analysis and analysis of relationships between variables\n",
    "\n",
    "Step 6: Conclusions after EDA with charts and explanations of each finding\n",
    "\n",
    "Step 7: A/B Testing\n",
    "\n",
    "Step 8: Conclusion\n",
    "\n",
    "Step 9: Generate graphs in Tableau"
   ]
  }
 ],
 "metadata": {
  "ExecuteTimeLog": [
   {
    "duration": 282,
    "start_time": "2024-09-08T01:41:47.934Z"
   },
   {
    "duration": 519,
    "start_time": "2024-09-08T01:42:00.603Z"
   },
   {
    "duration": 57,
    "start_time": "2024-09-08T01:42:12.523Z"
   },
   {
    "duration": 1156,
    "start_time": "2024-09-08T01:43:51.011Z"
   },
   {
    "duration": 395,
    "start_time": "2024-09-08T01:44:50.405Z"
   },
   {
    "duration": 15,
    "start_time": "2024-09-08T01:44:52.741Z"
   },
   {
    "duration": 9,
    "start_time": "2024-09-08T01:45:04.974Z"
   }
  ],
  "kernelspec": {
   "display_name": "Python 3 (ipykernel)",
   "language": "python",
   "name": "python3"
  },
  "language_info": {
   "codemirror_mode": {
    "name": "ipython",
    "version": 3
   },
   "file_extension": ".py",
   "mimetype": "text/x-python",
   "name": "python",
   "nbconvert_exporter": "python",
   "pygments_lexer": "ipython3",
   "version": "3.9.19"
  },
  "toc": {
   "base_numbering": 1,
   "nav_menu": {},
   "number_sections": true,
   "sideBar": true,
   "skip_h1_title": true,
   "title_cell": "Table of Contents",
   "title_sidebar": "Contents",
   "toc_cell": false,
   "toc_position": {},
   "toc_section_display": true,
   "toc_window_display": false
  }
 },
 "nbformat": 4,
 "nbformat_minor": 2
}
