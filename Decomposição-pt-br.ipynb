{
 "cells": [
  {
   "cell_type": "markdown",
   "metadata": {},
   "source": [
    "# Decomposição\n",
    "\n",
    "## Introdução\n",
    "Colocar uma breve descrição do projeto e o objetivo deste projeto"
   ]
  },
  {
   "cell_type": "markdown",
   "metadata": {},
   "source": [
    "## Definindo um plano de trabalho\n",
    "Primeiramente, começarei com um 'business understanding' ou entendimento do negócio, onde farei pesquisas sobre a área ou a empresa e identificarei o problema que está enfrentando. Em seguida, passarei para o 'data understanding' ou entendimento dos dados, começando com a limpeza inicial dos dados, utilizando funções que me ajudem a visualizar os dados, identificar valores faltantes, duplicados e o tipo de dados com os quais estarei lidando."
   ]
  },
  {
   "cell_type": "markdown",
   "metadata": {},
   "source": [
    "## Importação das bibliotecas e dos dados\n",
    "A próxima etapa é a importação das bibliotecas que irei utilizar para realizar este projeto e também os dados que serão utilizados para realizar a limpeza, EDA, insights, testes de hipóteses e conclusões referente aos dados"
   ]
  },
  {
   "cell_type": "markdown",
   "metadata": {},
   "source": [
    "## Passo a passo\n",
    "Passo 1:Definir o problema\n",
    "\n",
    "Passo 2:Realizar a coleta dos dados\n",
    "\n",
    "Passo 3:Pré-processament dos dados: Limpeza e preparação dos dados para garantir a qualidade dos dados ('Data quality')\n",
    "\n",
    "Passo 4:EDA\n",
    "\n",
    "Passo 5:Realizar análise descritiva e análise de relação entre as variaveis\n",
    "\n",
    "Passo 6:Conclusões após a EDA com geração de gráficos e explicações sobre cada descoberta\n",
    "\n",
    "Passo 7:Teste A/B\n",
    "\n",
    "Passo 8:Conclusão\n",
    "\n",
    "Passo 9:Gerar gráficos no Tableau\n"
   ]
  },
  {
   "cell_type": "markdown",
   "metadata": {},
   "source": [
    "### Documentações e artigos\n",
    "\n",
    "site: https://estatisticafacil.org/glossario/o-que-e-z-test-for-proportions/\n",
    "\n",
    " - Artigo sobre Z-test para proporções \n",
    " - solução no problema do : Teste A/B\n",
    "\n",
    "site: https://www.tutorialspoint.com/sql/sql-syntax.htm\n",
    "\n",
    " - solução no problema : documentação do SQL para sintaxes e funções\n",
    "\n",
    "site: https://pandas.pydata.org/docs/reference/api/pandas.Series.dt.to_period.html\n",
    "\n",
    "- solução nos problema : Ao utilizar a documentação do pandas consegui resolver alguns problemas que estava tendo para resolver alguns problemsa no codigo, assim como pude obter os argumentos que eu poderia utilizaar dt.to_period('M') para fazer o filtro mensal.\n",
    "\n",
    "site: https://plotly.com/python/line-charts/ //\n",
    "      https://seaborn.pydata.org/generated/seaborn.boxplot.html\n",
    "\n",
    "- solução nos problemas : Alteração de gráficos simples criados pelo matplotlib para gráficos mais aprimorados e interativo no plotly.express / Gerar um gráfico de boxplot para melhor visualização dos outliers\n",
    " \n",
    "site : https://medium.com/@joaopedro.thereziano/an%C3%A1lise-de-correla%C3%A7%C3%A3o-utilizando-python-30bcf29423c3\n",
    "\n",
    "- Artigo explicando a importancia de correlação com variaveis númericas com metodo de spearman\n",
    "\n",
    "site : https://medium.com/@larixgomex/segmenta%C3%A7%C3%A3o-de-clientes-com-rfm-em-python-3a97e534ffa1   // https://reinaldozezela.medium.com/segmentar-clientes-usando-a-an%C3%A1lise-rfm-com-o-r-815ad448a091\n",
    "\n",
    "- Artigo sobre Segmentação de Clientes com RFM em Python."
   ]
  }
 ],
 "metadata": {
  "ExecuteTimeLog": [
   {
    "duration": 282,
    "start_time": "2024-09-08T01:41:47.934Z"
   },
   {
    "duration": 519,
    "start_time": "2024-09-08T01:42:00.603Z"
   },
   {
    "duration": 57,
    "start_time": "2024-09-08T01:42:12.523Z"
   },
   {
    "duration": 1156,
    "start_time": "2024-09-08T01:43:51.011Z"
   },
   {
    "duration": 395,
    "start_time": "2024-09-08T01:44:50.405Z"
   },
   {
    "duration": 15,
    "start_time": "2024-09-08T01:44:52.741Z"
   },
   {
    "duration": 9,
    "start_time": "2024-09-08T01:45:04.974Z"
   }
  ],
  "kernelspec": {
   "display_name": "base",
   "language": "python",
   "name": "python3"
  },
  "language_info": {
   "codemirror_mode": {
    "name": "ipython",
    "version": 3
   },
   "file_extension": ".py",
   "mimetype": "text/x-python",
   "name": "python",
   "nbconvert_exporter": "python",
   "pygments_lexer": "ipython3",
   "version": "3.11.10"
  },
  "toc": {
   "base_numbering": 1,
   "nav_menu": {},
   "number_sections": true,
   "sideBar": true,
   "skip_h1_title": true,
   "title_cell": "Table of Contents",
   "title_sidebar": "Contents",
   "toc_cell": false,
   "toc_position": {},
   "toc_section_display": true,
   "toc_window_display": false
  }
 },
 "nbformat": 4,
 "nbformat_minor": 2
}
